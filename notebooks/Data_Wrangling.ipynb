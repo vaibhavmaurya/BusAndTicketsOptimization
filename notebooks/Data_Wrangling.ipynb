{
 "cells": [
  {
   "cell_type": "markdown",
   "metadata": {
    "slideshow": {
     "slide_type": "slide"
    }
   },
   "source": [
    "\n",
    "# Ticket timeseries data exploration\n",
    "\n",
    "## Data Wrangling"
   ]
  },
  {
   "cell_type": "code",
   "execution_count": 1,
   "metadata": {
    "slideshow": {
     "slide_type": "skip"
    }
   },
   "outputs": [],
   "source": [
    "# importing all necessary packages\n",
    "import pandas as pd\n",
    "import numpy as np\n",
    "import matplotlib.pyplot as plt\n",
    "import seaborn as sb\n",
    "# Setting the plot to be embedded inline\n",
    "%matplotlib inline"
   ]
  },
  {
   "cell_type": "code",
   "execution_count": 2,
   "metadata": {
    "slideshow": {
     "slide_type": "skip"
    }
   },
   "outputs": [],
   "source": [
    "# importing these packages to play with file system\n",
    "import os, sys\n",
    "# adding the parent directory in the path session variable\n",
    "sys.path.insert(0,os.path.pardir)\n",
    "# importing module to clean text file\n",
    "from src import DataProcessingModule as dp"
   ]
  },
  {
   "cell_type": "markdown",
   "metadata": {
    "slideshow": {
     "slide_type": "slide"
    }
   },
   "source": [
    "### Data Gathering\n",
    "Refer to the [README.md](https://github.com/vaibhavmaurya/BusAndTicketsOptimization/blob/master/README.md) for the following.\n",
    "\n",
    "- [About Dataset](https://github.com/vaibhavmaurya/BusAndTicketsOptimization/blob/master/README.md#AboutTicketData)\n",
    "- Information about [Data Processing Module](https://github.com/vaibhavmaurya/BusAndTicketsOptimization/blob/master/README.md#datawrangling) being used for data gathering and cleaning initially."
   ]
  },
  {
   "cell_type": "code",
   "execution_count": 3,
   "metadata": {
    "slideshow": {
     "slide_type": "skip"
    }
   },
   "outputs": [],
   "source": [
    "# Establishing path to directories for data processing.\n",
    "dir_dict = {\n",
    "        'raw' : '../data/raw',\n",
    "        'clean' : '../data/clean_data',\n",
    "        'process' : '../data/processed',\n",
    "        'parser' : '../src/datastructure.json',\n",
    "        'db' : '../data/db'\n",
    "}\n",
    "dp_class = dp.DataPreprocessing(dir_dict)"
   ]
  },
  {
   "cell_type": "code",
   "execution_count": 4,
   "metadata": {
    "slideshow": {
     "slide_type": "skip"
    }
   },
   "outputs": [
    {
     "name": "stdout",
     "output_type": "stream",
     "text": [
      "file aug18-dec18.txt is moving to raw directory\n",
      "file full_data.csv is getting deleted from clean_data directory\n",
      ">>>>> Data files are reset <<<<<<<\n",
      ">>>>> Data cleaning starts <<<<<<<\n",
      "new format is ../data/clean_data/full_data.csv\n",
      "Text or lst file it is \n",
      ">>> Created New output File\n"
     ]
    }
   ],
   "source": [
    "# calling module to convert textual data to csv file\n",
    "dp_class.processData()"
   ]
  },
  {
   "cell_type": "code",
   "execution_count": 5,
   "metadata": {
    "slideshow": {
     "slide_type": "skip"
    }
   },
   "outputs": [],
   "source": [
    "# Reading the csv file created by data processing module from textual data\n",
    "# Combining two columns of the dataset ETD_DATE and ETD_TD_TIME to ETD_DATETIME a single timestamp column\n",
    "df = pd.read_csv('../data/clean_data/full_data.csv', parse_dates={'ETD_DATETIME':['ETD_DATE','ETD_TD_TIME']})\n"
   ]
  },
  {
   "cell_type": "code",
   "execution_count": 6,
   "metadata": {
    "slideshow": {
     "slide_type": "subslide"
    }
   },
   "outputs": [
    {
     "name": "stdout",
     "output_type": "stream",
     "text": [
      "<class 'pandas.core.frame.DataFrame'>\n",
      "RangeIndex: 577850 entries, 0 to 577849\n",
      "Data columns (total 24 columns):\n",
      "ETD_DATETIME             577850 non-null datetime64[ns]\n",
      "ETD_WAYBILL_NO           577850 non-null int64\n",
      "ETD_ROUTE_NO             577850 non-null int64\n",
      "ETD_ROUTE_TYPE           577850 non-null int64\n",
      "ETD_TRIP_NO              577850 non-null int64\n",
      "ETD_TICKET_TYPE          577850 non-null int64\n",
      "ETD_ADULTS               577850 non-null int64\n",
      "ETD_CHILD                577850 non-null int64\n",
      "ETD_AMOUNT               577850 non-null int64\n",
      "ETD_DEPOT_CODE           577850 non-null int64\n",
      "ETD_BATTERY_VOLT         577850 non-null float64\n",
      "ETD_CUR_STOP_NAME        577850 non-null object\n",
      "ETD_DST_STOP_NAME        577850 non-null object\n",
      "ETD_KMS                  577850 non-null int64\n",
      "ETD_TICKET_TYPE_DESCR    577850 non-null object\n",
      "ETD_TRIP_DIRECTION       577850 non-null object\n",
      "ETD_TICKET_NO            577850 non-null int64\n",
      "ETD_TICKET_SUBNO         577850 non-null int64\n",
      "ETD_CUR_STOP_NO          577850 non-null int64\n",
      "ETD_CUR_STOP_CODE        577850 non-null int64\n",
      "ETD_DST_STOP_NO          577850 non-null int64\n",
      "ETD_DST_STOP_CODE        577850 non-null int64\n",
      "ETD_CUR_SUB_STAGE        577850 non-null int64\n",
      "ETD_DST_SUB_STAGE        577850 non-null int64\n",
      "dtypes: datetime64[ns](1), float64(1), int64(18), object(4)\n",
      "memory usage: 105.8+ MB\n"
     ]
    }
   ],
   "source": [
    "# Overall structure of Data\n",
    "df.info()"
   ]
  },
  {
   "cell_type": "code",
   "execution_count": 7,
   "metadata": {
    "slideshow": {
     "slide_type": "subslide"
    }
   },
   "outputs": [
    {
     "data": {
      "text/html": [
       "<div>\n",
       "<style scoped>\n",
       "    .dataframe tbody tr th:only-of-type {\n",
       "        vertical-align: middle;\n",
       "    }\n",
       "\n",
       "    .dataframe tbody tr th {\n",
       "        vertical-align: top;\n",
       "    }\n",
       "\n",
       "    .dataframe thead th {\n",
       "        text-align: right;\n",
       "    }\n",
       "</style>\n",
       "<table border=\"1\" class=\"dataframe\">\n",
       "  <thead>\n",
       "    <tr style=\"text-align: right;\">\n",
       "      <th></th>\n",
       "      <th>ETD_DATETIME</th>\n",
       "      <th>ETD_WAYBILL_NO</th>\n",
       "      <th>ETD_ROUTE_NO</th>\n",
       "      <th>ETD_ROUTE_TYPE</th>\n",
       "      <th>ETD_TRIP_NO</th>\n",
       "      <th>ETD_TICKET_TYPE</th>\n",
       "      <th>ETD_ADULTS</th>\n",
       "      <th>ETD_CHILD</th>\n",
       "      <th>ETD_AMOUNT</th>\n",
       "      <th>ETD_DEPOT_CODE</th>\n",
       "      <th>...</th>\n",
       "      <th>ETD_TICKET_TYPE_DESCR</th>\n",
       "      <th>ETD_TRIP_DIRECTION</th>\n",
       "      <th>ETD_TICKET_NO</th>\n",
       "      <th>ETD_TICKET_SUBNO</th>\n",
       "      <th>ETD_CUR_STOP_NO</th>\n",
       "      <th>ETD_CUR_STOP_CODE</th>\n",
       "      <th>ETD_DST_STOP_NO</th>\n",
       "      <th>ETD_DST_STOP_CODE</th>\n",
       "      <th>ETD_CUR_SUB_STAGE</th>\n",
       "      <th>ETD_DST_SUB_STAGE</th>\n",
       "    </tr>\n",
       "  </thead>\n",
       "  <tbody>\n",
       "    <tr>\n",
       "      <th>0</th>\n",
       "      <td>2018-08-01 23:57:13</td>\n",
       "      <td>620278</td>\n",
       "      <td>1</td>\n",
       "      <td>1</td>\n",
       "      <td>1</td>\n",
       "      <td>8</td>\n",
       "      <td>0</td>\n",
       "      <td>0</td>\n",
       "      <td>0</td>\n",
       "      <td>201</td>\n",
       "      <td>...</td>\n",
       "      <td>STAGE CHNGE</td>\n",
       "      <td>U</td>\n",
       "      <td>216253</td>\n",
       "      <td>0</td>\n",
       "      <td>4</td>\n",
       "      <td>5</td>\n",
       "      <td>4</td>\n",
       "      <td>6</td>\n",
       "      <td>0</td>\n",
       "      <td>0</td>\n",
       "    </tr>\n",
       "    <tr>\n",
       "      <th>1</th>\n",
       "      <td>2018-08-01 22:50:58</td>\n",
       "      <td>620282</td>\n",
       "      <td>1</td>\n",
       "      <td>1</td>\n",
       "      <td>1</td>\n",
       "      <td>1</td>\n",
       "      <td>1</td>\n",
       "      <td>0</td>\n",
       "      <td>250</td>\n",
       "      <td>201</td>\n",
       "      <td>...</td>\n",
       "      <td>PASSENGER</td>\n",
       "      <td>U</td>\n",
       "      <td>264972</td>\n",
       "      <td>0</td>\n",
       "      <td>1</td>\n",
       "      <td>1</td>\n",
       "      <td>16</td>\n",
       "      <td>42</td>\n",
       "      <td>0</td>\n",
       "      <td>0</td>\n",
       "    </tr>\n",
       "    <tr>\n",
       "      <th>2</th>\n",
       "      <td>2018-08-01 21:56:58</td>\n",
       "      <td>620281</td>\n",
       "      <td>1</td>\n",
       "      <td>1</td>\n",
       "      <td>1</td>\n",
       "      <td>1</td>\n",
       "      <td>5</td>\n",
       "      <td>0</td>\n",
       "      <td>725</td>\n",
       "      <td>201</td>\n",
       "      <td>...</td>\n",
       "      <td>PASSENGER</td>\n",
       "      <td>U</td>\n",
       "      <td>215302</td>\n",
       "      <td>0</td>\n",
       "      <td>1</td>\n",
       "      <td>1</td>\n",
       "      <td>9</td>\n",
       "      <td>24</td>\n",
       "      <td>0</td>\n",
       "      <td>0</td>\n",
       "    </tr>\n",
       "    <tr>\n",
       "      <th>3</th>\n",
       "      <td>2018-08-01 21:58:11</td>\n",
       "      <td>620281</td>\n",
       "      <td>1</td>\n",
       "      <td>1</td>\n",
       "      <td>1</td>\n",
       "      <td>1</td>\n",
       "      <td>1</td>\n",
       "      <td>0</td>\n",
       "      <td>250</td>\n",
       "      <td>201</td>\n",
       "      <td>...</td>\n",
       "      <td>PASSENGER</td>\n",
       "      <td>U</td>\n",
       "      <td>215303</td>\n",
       "      <td>0</td>\n",
       "      <td>1</td>\n",
       "      <td>1</td>\n",
       "      <td>16</td>\n",
       "      <td>42</td>\n",
       "      <td>0</td>\n",
       "      <td>0</td>\n",
       "    </tr>\n",
       "    <tr>\n",
       "      <th>4</th>\n",
       "      <td>2018-08-01 22:30:57</td>\n",
       "      <td>620281</td>\n",
       "      <td>1</td>\n",
       "      <td>1</td>\n",
       "      <td>1</td>\n",
       "      <td>1</td>\n",
       "      <td>2</td>\n",
       "      <td>0</td>\n",
       "      <td>500</td>\n",
       "      <td>201</td>\n",
       "      <td>...</td>\n",
       "      <td>PASSENGER</td>\n",
       "      <td>U</td>\n",
       "      <td>215304</td>\n",
       "      <td>0</td>\n",
       "      <td>1</td>\n",
       "      <td>1</td>\n",
       "      <td>16</td>\n",
       "      <td>42</td>\n",
       "      <td>0</td>\n",
       "      <td>0</td>\n",
       "    </tr>\n",
       "  </tbody>\n",
       "</table>\n",
       "<p>5 rows × 24 columns</p>\n",
       "</div>"
      ],
      "text/plain": [
       "         ETD_DATETIME  ETD_WAYBILL_NO  ETD_ROUTE_NO  ETD_ROUTE_TYPE  \\\n",
       "0 2018-08-01 23:57:13          620278             1               1   \n",
       "1 2018-08-01 22:50:58          620282             1               1   \n",
       "2 2018-08-01 21:56:58          620281             1               1   \n",
       "3 2018-08-01 21:58:11          620281             1               1   \n",
       "4 2018-08-01 22:30:57          620281             1               1   \n",
       "\n",
       "   ETD_TRIP_NO  ETD_TICKET_TYPE  ETD_ADULTS  ETD_CHILD  ETD_AMOUNT  \\\n",
       "0            1                8           0          0           0   \n",
       "1            1                1           1          0         250   \n",
       "2            1                1           5          0         725   \n",
       "3            1                1           1          0         250   \n",
       "4            1                1           2          0         500   \n",
       "\n",
       "   ETD_DEPOT_CODE  ...  ETD_TICKET_TYPE_DESCR ETD_TRIP_DIRECTION  \\\n",
       "0             201  ...            STAGE CHNGE                  U   \n",
       "1             201  ...              PASSENGER                  U   \n",
       "2             201  ...              PASSENGER                  U   \n",
       "3             201  ...              PASSENGER                  U   \n",
       "4             201  ...              PASSENGER                  U   \n",
       "\n",
       "  ETD_TICKET_NO  ETD_TICKET_SUBNO ETD_CUR_STOP_NO ETD_CUR_STOP_CODE  \\\n",
       "0        216253                 0               4                 5   \n",
       "1        264972                 0               1                 1   \n",
       "2        215302                 0               1                 1   \n",
       "3        215303                 0               1                 1   \n",
       "4        215304                 0               1                 1   \n",
       "\n",
       "   ETD_DST_STOP_NO  ETD_DST_STOP_CODE  ETD_CUR_SUB_STAGE  ETD_DST_SUB_STAGE  \n",
       "0                4                  6                  0                  0  \n",
       "1               16                 42                  0                  0  \n",
       "2                9                 24                  0                  0  \n",
       "3               16                 42                  0                  0  \n",
       "4               16                 42                  0                  0  \n",
       "\n",
       "[5 rows x 24 columns]"
      ]
     },
     "execution_count": 7,
     "metadata": {},
     "output_type": "execute_result"
    }
   ],
   "source": [
    "# First 5 rows of the data\n",
    "df.head()"
   ]
  },
  {
   "cell_type": "code",
   "execution_count": 8,
   "metadata": {
    "slideshow": {
     "slide_type": "skip"
    }
   },
   "outputs": [
    {
     "data": {
      "text/plain": [
       "ETD_DATETIME             2018-08-01 23:57:13\n",
       "ETD_WAYBILL_NO                        620278\n",
       "ETD_ROUTE_NO                               1\n",
       "ETD_ROUTE_TYPE                             1\n",
       "ETD_TRIP_NO                                1\n",
       "ETD_TICKET_TYPE                            8\n",
       "ETD_ADULTS                                 0\n",
       "ETD_CHILD                                  0\n",
       "ETD_AMOUNT                                 0\n",
       "ETD_DEPOT_CODE                           201\n",
       "ETD_BATTERY_VOLT                        8.04\n",
       "ETD_CUR_STOP_NAME                NELAMANGALA\n",
       "ETD_DST_STOP_NAME                NELAMANGALA\n",
       "ETD_KMS                                    0\n",
       "ETD_TICKET_TYPE_DESCR            STAGE CHNGE\n",
       "ETD_TRIP_DIRECTION                         U\n",
       "ETD_TICKET_NO                         216253\n",
       "ETD_TICKET_SUBNO                           0\n",
       "ETD_CUR_STOP_NO                            4\n",
       "ETD_CUR_STOP_CODE                          5\n",
       "ETD_DST_STOP_NO                            4\n",
       "ETD_DST_STOP_CODE                          6\n",
       "ETD_CUR_SUB_STAGE                          0\n",
       "ETD_DST_SUB_STAGE                          0\n",
       "Name: 0, dtype: object"
      ]
     },
     "execution_count": 8,
     "metadata": {},
     "output_type": "execute_result"
    }
   ],
   "source": [
    "# Giving a closer look to a single row\n",
    "df.iloc[0]"
   ]
  },
  {
   "cell_type": "code",
   "execution_count": 9,
   "metadata": {
    "slideshow": {
     "slide_type": "skip"
    }
   },
   "outputs": [
    {
     "data": {
      "text/plain": [
       "Index(['ETD_DATETIME', 'ETD_WAYBILL_NO', 'ETD_ROUTE_NO', 'ETD_ROUTE_TYPE',\n",
       "       'ETD_TRIP_NO', 'ETD_TICKET_TYPE', 'ETD_ADULTS', 'ETD_CHILD',\n",
       "       'ETD_AMOUNT', 'ETD_DEPOT_CODE', 'ETD_BATTERY_VOLT', 'ETD_CUR_STOP_NAME',\n",
       "       'ETD_DST_STOP_NAME', 'ETD_KMS', 'ETD_TICKET_TYPE_DESCR',\n",
       "       'ETD_TRIP_DIRECTION', 'ETD_TICKET_NO', 'ETD_TICKET_SUBNO',\n",
       "       'ETD_CUR_STOP_NO', 'ETD_CUR_STOP_CODE', 'ETD_DST_STOP_NO',\n",
       "       'ETD_DST_STOP_CODE', 'ETD_CUR_SUB_STAGE', 'ETD_DST_SUB_STAGE'],\n",
       "      dtype='object')"
      ]
     },
     "execution_count": 9,
     "metadata": {},
     "output_type": "execute_result"
    }
   ],
   "source": [
    "# Columns in the dataset\n",
    "df.columns"
   ]
  },
  {
   "cell_type": "code",
   "execution_count": 10,
   "metadata": {
    "slideshow": {
     "slide_type": "skip"
    }
   },
   "outputs": [
    {
     "data": {
      "text/plain": [
       "array([1, 2, 3, 5, 6, 4, 7, 8])"
      ]
     },
     "execution_count": 10,
     "metadata": {},
     "output_type": "execute_result"
    }
   ],
   "source": [
    "# Distinct trips in the dataset\n",
    "df.ETD_TRIP_NO.unique()"
   ]
  },
  {
   "cell_type": "code",
   "execution_count": 11,
   "metadata": {
    "slideshow": {
     "slide_type": "skip"
    }
   },
   "outputs": [
    {
     "data": {
      "text/plain": [
       "array([ 8,  1, 11, 12, 33, 10, 94,  2, 29, 36, 14, 37, 44, 91, 15, 21, 92,\n",
       "       38, 32, 95, 57, 39, 17, 13, 19, 16, 28,  9])"
      ]
     },
     "execution_count": 11,
     "metadata": {},
     "output_type": "execute_result"
    }
   ],
   "source": [
    "# Distinct ticket types in the dataset\n",
    "df.ETD_TICKET_TYPE.unique()"
   ]
  },
  {
   "cell_type": "code",
   "execution_count": 12,
   "metadata": {
    "slideshow": {
     "slide_type": "skip"
    }
   },
   "outputs": [
    {
     "data": {
      "text/plain": [
       "ETD_TICKET_TYPE\n",
       "1     [PASSENGER, -----------, I.PASSENGER]\n",
       "2                [LUGGAGE TKT, -----------]\n",
       "8                             [STAGE CHNGE]\n",
       "9                               [TOLL GATE]\n",
       "10                            [POLICEWARNT]\n",
       "11                            [STUDENT PAS]\n",
       "12                            [GENERAL PAS]\n",
       "13                            [MLA/MLC PAS]\n",
       "14                            [HANDICAP PA]\n",
       "15                             [BLIND PASS]\n",
       "16                            [FREEDOM FIG]\n",
       "17                            [AWARD WINNE]\n",
       "19                                 [EX-MLC]\n",
       "21                 [-----------, INSP CASE]\n",
       "28                            [ROUTE SELCT]\n",
       "29                  [-----------, TRIP END]\n",
       "32                [-----------, JOURNALIST]\n",
       "33               [-----------, SENIORCITIZ]\n",
       "36                             [TRIP SHEET]\n",
       "37                             [STATUS RPT]\n",
       "38                            [TKTDETAILRP]\n",
       "39                            [STG.WISE.RP]\n",
       "44               [-----------, SCHEDULECLS]\n",
       "57                            [RETIRED STA]\n",
       "91                            [COLLECTNRPT]\n",
       "92                            [BREAK DWRPT]\n",
       "94                [ROUTE CARD, I.ROUTE CRD]\n",
       "95                            [TRIP.EXTRAT]\n",
       "Name: ETD_TICKET_TYPE_DESCR, dtype: object"
      ]
     },
     "execution_count": 12,
     "metadata": {},
     "output_type": "execute_result"
    }
   ],
   "source": [
    "# Relationship between ETD_TICKET_TYPE and ETD_TICKET_TYPE_DESCR\n",
    "df.groupby(\"ETD_TICKET_TYPE\").ETD_TICKET_TYPE_DESCR.unique()"
   ]
  },
  {
   "cell_type": "markdown",
   "metadata": {
    "slideshow": {
     "slide_type": "slide"
    }
   },
   "source": [
    "### Structure of Dataset\n",
    "Overall picture of dataset is as below.\n",
    "- There are 577850 rows and 24 columns.\n",
    "- There are 4 columns of datatype string, rest all are numeric.\n",
    "- There is one column ETD_WAYBILL_NO which identifies a bus uniquely.\n",
    "- There is one column ETD_ROUTE_NO which identifies a route of the bus uniquely.\n",
    "- There are 6 categorical columns even though they are numeric. Those are \"ETD_ROUTE_TYPE\", \"ETD_TICKET_TYPE\", \"ETD_DEPOT_CODE\", \"ETD_CUR_STOP_NAME\", \"ETD_DST_STOP_NAME\" and \"ETD_TRIP_DIRECTION\".\n",
    "- There are 5 quantitative columns. those are \"ETD_ADULTS\", \"ETD_CHILD\", \"ETD_AMOUNT\", \"ETD_BATTERY_VOLT\" and \"ETD_KMS\"\n",
    "- ETD_CUR_STOP_NO is the indetifier of bus stop and ETD_CUR_STOP_NAME is the name of the bus stop. The same follows with ETD_DST_STOP_NO and ETD_DST_STOP_NAME\n",
    "- ETD_CUR_STOP_CODE is assumed to be code of the bus stop though there is already a field ETD_CUR_STOP_NO to uniquely identify a bus stop. Field ETD_CUR_STOP_CODE, purpose is unknown. Same follows with ETD_DST_STOP_CODE."
   ]
  },
  {
   "cell_type": "markdown",
   "metadata": {
    "slideshow": {
     "slide_type": "slide"
    }
   },
   "source": [
    "### Scope of the Data Exploration\n",
    "Idea is to \n",
    "- Explore distribution of tickets issued to passengers. It's relationship to ticket type, date time, bus stops etc.\n",
    "- Explore the fare recieved from passengers.\n"
   ]
  },
  {
   "cell_type": "markdown",
   "metadata": {
    "slideshow": {
     "slide_type": "slide"
    }
   },
   "source": [
    "### Certain Data changes\n",
    "\n",
    "- ETD_ADULTS and ETD_CHILD columns depict no of adults and children boarded the bus. These columns can be combined to one single column PASSENGERS.\n",
    "- Some rows contains ETD_ADULTS and ETD_CHILD as 0. These rows are specific to certain purposes defined by [KSRTC](https://github.com/vaibhavmaurya/BusAndTicketsOptimization/blob/master/README.md#OrgBackground). These rows does not contain information about ticket issued and so these are out of the scope.\n",
    "- Columns ETD_CUR_SUB_STAGE, ETD_DST_SUB_STAGE and ETD_TICKET_SUBNO are always 0. It is better to remove them.\n",
    "- ETD_BATTERY_VOLT column is battery voltage of the bus when ticket is issued. This column is out of scope\n",
    "- ETD_DST_STOP_CODE and ETD_CUR_STOP_CODE, both fields the purpose is not known.\n",
    "- It would be good to have fate and time decomposed to month and week. So that monthly and weekly behavior can be analysed further.\n",
    "- Decompose date and time column to month, week and weekday columns. These columns will be used to find passengers congestion based on various time frames."
   ]
  },
  {
   "cell_type": "code",
   "execution_count": 13,
   "metadata": {
    "slideshow": {
     "slide_type": "skip"
    }
   },
   "outputs": [
    {
     "data": {
      "text/plain": [
       "ETD_DATETIME             2018-08-01 23:57:13\n",
       "ETD_WAYBILL_NO                        620278\n",
       "ETD_ROUTE_NO                               1\n",
       "ETD_ROUTE_TYPE                             1\n",
       "ETD_TRIP_NO                                1\n",
       "ETD_TICKET_TYPE                            8\n",
       "ETD_AMOUNT                                 0\n",
       "ETD_DEPOT_CODE                           201\n",
       "ETD_BATTERY_VOLT                        8.04\n",
       "ETD_CUR_STOP_NAME                NELAMANGALA\n",
       "ETD_DST_STOP_NAME                NELAMANGALA\n",
       "ETD_KMS                                    0\n",
       "ETD_TICKET_TYPE_DESCR            STAGE CHNGE\n",
       "ETD_TRIP_DIRECTION                         U\n",
       "ETD_TICKET_NO                         216253\n",
       "ETD_TICKET_SUBNO                           0\n",
       "ETD_CUR_STOP_NO                            4\n",
       "ETD_CUR_STOP_CODE                          5\n",
       "ETD_DST_STOP_NO                            4\n",
       "ETD_DST_STOP_CODE                          6\n",
       "ETD_CUR_SUB_STAGE                          0\n",
       "ETD_DST_SUB_STAGE                          0\n",
       "PASSENGERS                                 0\n",
       "Name: 0, dtype: object"
      ]
     },
     "execution_count": 13,
     "metadata": {},
     "output_type": "execute_result"
    }
   ],
   "source": [
    "# Combining ETD_ADULTS and ETD_CHILD to PASSENGERS\n",
    "df[\"PASSENGERS\"] = df.ETD_ADULTS + df.ETD_CHILD\n",
    "df.drop(columns=[\"ETD_ADULTS\",\"ETD_CHILD\"], axis=1, inplace=True)\n",
    "df.iloc[0]"
   ]
  },
  {
   "cell_type": "code",
   "execution_count": 14,
   "metadata": {
    "slideshow": {
     "slide_type": "skip"
    }
   },
   "outputs": [
    {
     "data": {
      "text/html": [
       "<div>\n",
       "<style scoped>\n",
       "    .dataframe tbody tr th:only-of-type {\n",
       "        vertical-align: middle;\n",
       "    }\n",
       "\n",
       "    .dataframe tbody tr th {\n",
       "        vertical-align: top;\n",
       "    }\n",
       "\n",
       "    .dataframe thead th {\n",
       "        text-align: right;\n",
       "    }\n",
       "</style>\n",
       "<table border=\"1\" class=\"dataframe\">\n",
       "  <thead>\n",
       "    <tr style=\"text-align: right;\">\n",
       "      <th></th>\n",
       "      <th>ETD_DATETIME</th>\n",
       "      <th>ETD_WAYBILL_NO</th>\n",
       "      <th>ETD_ROUTE_NO</th>\n",
       "      <th>ETD_ROUTE_TYPE</th>\n",
       "      <th>ETD_TRIP_NO</th>\n",
       "      <th>ETD_TICKET_TYPE</th>\n",
       "      <th>ETD_AMOUNT</th>\n",
       "      <th>ETD_DEPOT_CODE</th>\n",
       "      <th>ETD_BATTERY_VOLT</th>\n",
       "      <th>ETD_CUR_STOP_NAME</th>\n",
       "      <th>...</th>\n",
       "      <th>ETD_TRIP_DIRECTION</th>\n",
       "      <th>ETD_TICKET_NO</th>\n",
       "      <th>ETD_TICKET_SUBNO</th>\n",
       "      <th>ETD_CUR_STOP_NO</th>\n",
       "      <th>ETD_CUR_STOP_CODE</th>\n",
       "      <th>ETD_DST_STOP_NO</th>\n",
       "      <th>ETD_DST_STOP_CODE</th>\n",
       "      <th>ETD_CUR_SUB_STAGE</th>\n",
       "      <th>ETD_DST_SUB_STAGE</th>\n",
       "      <th>PASSENGERS</th>\n",
       "    </tr>\n",
       "  </thead>\n",
       "  <tbody>\n",
       "  </tbody>\n",
       "</table>\n",
       "<p>0 rows × 23 columns</p>\n",
       "</div>"
      ],
      "text/plain": [
       "Empty DataFrame\n",
       "Columns: [ETD_DATETIME, ETD_WAYBILL_NO, ETD_ROUTE_NO, ETD_ROUTE_TYPE, ETD_TRIP_NO, ETD_TICKET_TYPE, ETD_AMOUNT, ETD_DEPOT_CODE, ETD_BATTERY_VOLT, ETD_CUR_STOP_NAME, ETD_DST_STOP_NAME, ETD_KMS, ETD_TICKET_TYPE_DESCR, ETD_TRIP_DIRECTION, ETD_TICKET_NO, ETD_TICKET_SUBNO, ETD_CUR_STOP_NO, ETD_CUR_STOP_CODE, ETD_DST_STOP_NO, ETD_DST_STOP_CODE, ETD_CUR_SUB_STAGE, ETD_DST_SUB_STAGE, PASSENGERS]\n",
       "Index: []\n",
       "\n",
       "[0 rows x 23 columns]"
      ]
     },
     "execution_count": 14,
     "metadata": {},
     "output_type": "execute_result"
    }
   ],
   "source": [
    "# Removing rows where PASSENGERS boarded are 0\n",
    "df.drop(index = df[df.PASSENGERS == 0].index, inplace=True)\n",
    "df[df.PASSENGERS == 0]"
   ]
  },
  {
   "cell_type": "code",
   "execution_count": 15,
   "metadata": {
    "slideshow": {
     "slide_type": "skip"
    }
   },
   "outputs": [
    {
     "data": {
      "text/html": [
       "<div>\n",
       "<style scoped>\n",
       "    .dataframe tbody tr th:only-of-type {\n",
       "        vertical-align: middle;\n",
       "    }\n",
       "\n",
       "    .dataframe tbody tr th {\n",
       "        vertical-align: top;\n",
       "    }\n",
       "\n",
       "    .dataframe thead th {\n",
       "        text-align: right;\n",
       "    }\n",
       "</style>\n",
       "<table border=\"1\" class=\"dataframe\">\n",
       "  <thead>\n",
       "    <tr style=\"text-align: right;\">\n",
       "      <th></th>\n",
       "      <th>ETD_DATETIME</th>\n",
       "      <th>ETD_WAYBILL_NO</th>\n",
       "      <th>ETD_ROUTE_NO</th>\n",
       "      <th>ETD_ROUTE_TYPE</th>\n",
       "      <th>ETD_TRIP_NO</th>\n",
       "      <th>ETD_TICKET_TYPE</th>\n",
       "      <th>ETD_AMOUNT</th>\n",
       "      <th>ETD_DEPOT_CODE</th>\n",
       "      <th>ETD_BATTERY_VOLT</th>\n",
       "      <th>ETD_CUR_STOP_NAME</th>\n",
       "      <th>ETD_DST_STOP_NAME</th>\n",
       "      <th>ETD_KMS</th>\n",
       "      <th>ETD_TICKET_TYPE_DESCR</th>\n",
       "      <th>ETD_TRIP_DIRECTION</th>\n",
       "      <th>ETD_TICKET_NO</th>\n",
       "      <th>ETD_CUR_STOP_NO</th>\n",
       "      <th>ETD_CUR_STOP_CODE</th>\n",
       "      <th>ETD_DST_STOP_NO</th>\n",
       "      <th>ETD_DST_STOP_CODE</th>\n",
       "      <th>PASSENGERS</th>\n",
       "    </tr>\n",
       "  </thead>\n",
       "  <tbody>\n",
       "    <tr>\n",
       "      <th>1</th>\n",
       "      <td>2018-08-01 22:50:58</td>\n",
       "      <td>620282</td>\n",
       "      <td>1</td>\n",
       "      <td>1</td>\n",
       "      <td>1</td>\n",
       "      <td>1</td>\n",
       "      <td>250</td>\n",
       "      <td>201</td>\n",
       "      <td>8.16</td>\n",
       "      <td>BENGALURU</td>\n",
       "      <td>BHADRAVATHI</td>\n",
       "      <td>265</td>\n",
       "      <td>PASSENGER</td>\n",
       "      <td>U</td>\n",
       "      <td>264972</td>\n",
       "      <td>1</td>\n",
       "      <td>1</td>\n",
       "      <td>16</td>\n",
       "      <td>42</td>\n",
       "      <td>1</td>\n",
       "    </tr>\n",
       "    <tr>\n",
       "      <th>2</th>\n",
       "      <td>2018-08-01 21:56:58</td>\n",
       "      <td>620281</td>\n",
       "      <td>1</td>\n",
       "      <td>1</td>\n",
       "      <td>1</td>\n",
       "      <td>1</td>\n",
       "      <td>725</td>\n",
       "      <td>201</td>\n",
       "      <td>8.00</td>\n",
       "      <td>BENGALURU</td>\n",
       "      <td>TIPTUR</td>\n",
       "      <td>146</td>\n",
       "      <td>PASSENGER</td>\n",
       "      <td>U</td>\n",
       "      <td>215302</td>\n",
       "      <td>1</td>\n",
       "      <td>1</td>\n",
       "      <td>9</td>\n",
       "      <td>24</td>\n",
       "      <td>5</td>\n",
       "    </tr>\n",
       "    <tr>\n",
       "      <th>3</th>\n",
       "      <td>2018-08-01 21:58:11</td>\n",
       "      <td>620281</td>\n",
       "      <td>1</td>\n",
       "      <td>1</td>\n",
       "      <td>1</td>\n",
       "      <td>1</td>\n",
       "      <td>250</td>\n",
       "      <td>201</td>\n",
       "      <td>8.00</td>\n",
       "      <td>BENGALURU</td>\n",
       "      <td>BHADRAVATHI</td>\n",
       "      <td>265</td>\n",
       "      <td>PASSENGER</td>\n",
       "      <td>U</td>\n",
       "      <td>215303</td>\n",
       "      <td>1</td>\n",
       "      <td>1</td>\n",
       "      <td>16</td>\n",
       "      <td>42</td>\n",
       "      <td>1</td>\n",
       "    </tr>\n",
       "    <tr>\n",
       "      <th>4</th>\n",
       "      <td>2018-08-01 22:30:57</td>\n",
       "      <td>620281</td>\n",
       "      <td>1</td>\n",
       "      <td>1</td>\n",
       "      <td>1</td>\n",
       "      <td>1</td>\n",
       "      <td>500</td>\n",
       "      <td>201</td>\n",
       "      <td>8.01</td>\n",
       "      <td>BENGALURU</td>\n",
       "      <td>BHADRAVATHI</td>\n",
       "      <td>265</td>\n",
       "      <td>PASSENGER</td>\n",
       "      <td>U</td>\n",
       "      <td>215304</td>\n",
       "      <td>1</td>\n",
       "      <td>1</td>\n",
       "      <td>16</td>\n",
       "      <td>42</td>\n",
       "      <td>2</td>\n",
       "    </tr>\n",
       "    <tr>\n",
       "      <th>5</th>\n",
       "      <td>2018-08-01 22:31:36</td>\n",
       "      <td>620281</td>\n",
       "      <td>1</td>\n",
       "      <td>1</td>\n",
       "      <td>1</td>\n",
       "      <td>1</td>\n",
       "      <td>145</td>\n",
       "      <td>201</td>\n",
       "      <td>8.01</td>\n",
       "      <td>BENGALURU</td>\n",
       "      <td>TIPTUR</td>\n",
       "      <td>146</td>\n",
       "      <td>PASSENGER</td>\n",
       "      <td>U</td>\n",
       "      <td>215305</td>\n",
       "      <td>1</td>\n",
       "      <td>1</td>\n",
       "      <td>9</td>\n",
       "      <td>24</td>\n",
       "      <td>1</td>\n",
       "    </tr>\n",
       "  </tbody>\n",
       "</table>\n",
       "</div>"
      ],
      "text/plain": [
       "         ETD_DATETIME  ETD_WAYBILL_NO  ETD_ROUTE_NO  ETD_ROUTE_TYPE  \\\n",
       "1 2018-08-01 22:50:58          620282             1               1   \n",
       "2 2018-08-01 21:56:58          620281             1               1   \n",
       "3 2018-08-01 21:58:11          620281             1               1   \n",
       "4 2018-08-01 22:30:57          620281             1               1   \n",
       "5 2018-08-01 22:31:36          620281             1               1   \n",
       "\n",
       "   ETD_TRIP_NO  ETD_TICKET_TYPE  ETD_AMOUNT  ETD_DEPOT_CODE  ETD_BATTERY_VOLT  \\\n",
       "1            1                1         250             201              8.16   \n",
       "2            1                1         725             201              8.00   \n",
       "3            1                1         250             201              8.00   \n",
       "4            1                1         500             201              8.01   \n",
       "5            1                1         145             201              8.01   \n",
       "\n",
       "  ETD_CUR_STOP_NAME ETD_DST_STOP_NAME  ETD_KMS ETD_TICKET_TYPE_DESCR  \\\n",
       "1         BENGALURU       BHADRAVATHI      265             PASSENGER   \n",
       "2         BENGALURU            TIPTUR      146             PASSENGER   \n",
       "3         BENGALURU       BHADRAVATHI      265             PASSENGER   \n",
       "4         BENGALURU       BHADRAVATHI      265             PASSENGER   \n",
       "5         BENGALURU            TIPTUR      146             PASSENGER   \n",
       "\n",
       "  ETD_TRIP_DIRECTION  ETD_TICKET_NO  ETD_CUR_STOP_NO  ETD_CUR_STOP_CODE  \\\n",
       "1                  U         264972                1                  1   \n",
       "2                  U         215302                1                  1   \n",
       "3                  U         215303                1                  1   \n",
       "4                  U         215304                1                  1   \n",
       "5                  U         215305                1                  1   \n",
       "\n",
       "   ETD_DST_STOP_NO  ETD_DST_STOP_CODE  PASSENGERS  \n",
       "1               16                 42           1  \n",
       "2                9                 24           5  \n",
       "3               16                 42           1  \n",
       "4               16                 42           2  \n",
       "5                9                 24           1  "
      ]
     },
     "execution_count": 15,
     "metadata": {},
     "output_type": "execute_result"
    }
   ],
   "source": [
    "# removing columns ETD_CUR_SUB_STAGE, ETD_DST_SUB_STAGE and ETD_TICKET_SUBNO\n",
    "df.drop(columns=[\"ETD_CUR_SUB_STAGE\",\"ETD_DST_SUB_STAGE\", \"ETD_TICKET_SUBNO\"],inplace=True)\n",
    "df.head()"
   ]
  },
  {
   "cell_type": "code",
   "execution_count": 16,
   "metadata": {
    "slideshow": {
     "slide_type": "skip"
    }
   },
   "outputs": [
    {
     "data": {
      "text/html": [
       "<div>\n",
       "<style scoped>\n",
       "    .dataframe tbody tr th:only-of-type {\n",
       "        vertical-align: middle;\n",
       "    }\n",
       "\n",
       "    .dataframe tbody tr th {\n",
       "        vertical-align: top;\n",
       "    }\n",
       "\n",
       "    .dataframe thead th {\n",
       "        text-align: right;\n",
       "    }\n",
       "</style>\n",
       "<table border=\"1\" class=\"dataframe\">\n",
       "  <thead>\n",
       "    <tr style=\"text-align: right;\">\n",
       "      <th></th>\n",
       "      <th>ETD_DATETIME</th>\n",
       "      <th>ETD_WAYBILL_NO</th>\n",
       "      <th>ETD_ROUTE_NO</th>\n",
       "      <th>ETD_ROUTE_TYPE</th>\n",
       "      <th>ETD_TRIP_NO</th>\n",
       "      <th>ETD_TICKET_TYPE</th>\n",
       "      <th>ETD_AMOUNT</th>\n",
       "      <th>ETD_DEPOT_CODE</th>\n",
       "      <th>ETD_CUR_STOP_NAME</th>\n",
       "      <th>ETD_DST_STOP_NAME</th>\n",
       "      <th>ETD_KMS</th>\n",
       "      <th>ETD_TICKET_TYPE_DESCR</th>\n",
       "      <th>ETD_TRIP_DIRECTION</th>\n",
       "      <th>ETD_TICKET_NO</th>\n",
       "      <th>ETD_CUR_STOP_NO</th>\n",
       "      <th>ETD_CUR_STOP_CODE</th>\n",
       "      <th>ETD_DST_STOP_NO</th>\n",
       "      <th>ETD_DST_STOP_CODE</th>\n",
       "      <th>PASSENGERS</th>\n",
       "    </tr>\n",
       "  </thead>\n",
       "  <tbody>\n",
       "    <tr>\n",
       "      <th>1</th>\n",
       "      <td>2018-08-01 22:50:58</td>\n",
       "      <td>620282</td>\n",
       "      <td>1</td>\n",
       "      <td>1</td>\n",
       "      <td>1</td>\n",
       "      <td>1</td>\n",
       "      <td>250</td>\n",
       "      <td>201</td>\n",
       "      <td>BENGALURU</td>\n",
       "      <td>BHADRAVATHI</td>\n",
       "      <td>265</td>\n",
       "      <td>PASSENGER</td>\n",
       "      <td>U</td>\n",
       "      <td>264972</td>\n",
       "      <td>1</td>\n",
       "      <td>1</td>\n",
       "      <td>16</td>\n",
       "      <td>42</td>\n",
       "      <td>1</td>\n",
       "    </tr>\n",
       "    <tr>\n",
       "      <th>2</th>\n",
       "      <td>2018-08-01 21:56:58</td>\n",
       "      <td>620281</td>\n",
       "      <td>1</td>\n",
       "      <td>1</td>\n",
       "      <td>1</td>\n",
       "      <td>1</td>\n",
       "      <td>725</td>\n",
       "      <td>201</td>\n",
       "      <td>BENGALURU</td>\n",
       "      <td>TIPTUR</td>\n",
       "      <td>146</td>\n",
       "      <td>PASSENGER</td>\n",
       "      <td>U</td>\n",
       "      <td>215302</td>\n",
       "      <td>1</td>\n",
       "      <td>1</td>\n",
       "      <td>9</td>\n",
       "      <td>24</td>\n",
       "      <td>5</td>\n",
       "    </tr>\n",
       "    <tr>\n",
       "      <th>3</th>\n",
       "      <td>2018-08-01 21:58:11</td>\n",
       "      <td>620281</td>\n",
       "      <td>1</td>\n",
       "      <td>1</td>\n",
       "      <td>1</td>\n",
       "      <td>1</td>\n",
       "      <td>250</td>\n",
       "      <td>201</td>\n",
       "      <td>BENGALURU</td>\n",
       "      <td>BHADRAVATHI</td>\n",
       "      <td>265</td>\n",
       "      <td>PASSENGER</td>\n",
       "      <td>U</td>\n",
       "      <td>215303</td>\n",
       "      <td>1</td>\n",
       "      <td>1</td>\n",
       "      <td>16</td>\n",
       "      <td>42</td>\n",
       "      <td>1</td>\n",
       "    </tr>\n",
       "    <tr>\n",
       "      <th>4</th>\n",
       "      <td>2018-08-01 22:30:57</td>\n",
       "      <td>620281</td>\n",
       "      <td>1</td>\n",
       "      <td>1</td>\n",
       "      <td>1</td>\n",
       "      <td>1</td>\n",
       "      <td>500</td>\n",
       "      <td>201</td>\n",
       "      <td>BENGALURU</td>\n",
       "      <td>BHADRAVATHI</td>\n",
       "      <td>265</td>\n",
       "      <td>PASSENGER</td>\n",
       "      <td>U</td>\n",
       "      <td>215304</td>\n",
       "      <td>1</td>\n",
       "      <td>1</td>\n",
       "      <td>16</td>\n",
       "      <td>42</td>\n",
       "      <td>2</td>\n",
       "    </tr>\n",
       "    <tr>\n",
       "      <th>5</th>\n",
       "      <td>2018-08-01 22:31:36</td>\n",
       "      <td>620281</td>\n",
       "      <td>1</td>\n",
       "      <td>1</td>\n",
       "      <td>1</td>\n",
       "      <td>1</td>\n",
       "      <td>145</td>\n",
       "      <td>201</td>\n",
       "      <td>BENGALURU</td>\n",
       "      <td>TIPTUR</td>\n",
       "      <td>146</td>\n",
       "      <td>PASSENGER</td>\n",
       "      <td>U</td>\n",
       "      <td>215305</td>\n",
       "      <td>1</td>\n",
       "      <td>1</td>\n",
       "      <td>9</td>\n",
       "      <td>24</td>\n",
       "      <td>1</td>\n",
       "    </tr>\n",
       "  </tbody>\n",
       "</table>\n",
       "</div>"
      ],
      "text/plain": [
       "         ETD_DATETIME  ETD_WAYBILL_NO  ETD_ROUTE_NO  ETD_ROUTE_TYPE  \\\n",
       "1 2018-08-01 22:50:58          620282             1               1   \n",
       "2 2018-08-01 21:56:58          620281             1               1   \n",
       "3 2018-08-01 21:58:11          620281             1               1   \n",
       "4 2018-08-01 22:30:57          620281             1               1   \n",
       "5 2018-08-01 22:31:36          620281             1               1   \n",
       "\n",
       "   ETD_TRIP_NO  ETD_TICKET_TYPE  ETD_AMOUNT  ETD_DEPOT_CODE ETD_CUR_STOP_NAME  \\\n",
       "1            1                1         250             201         BENGALURU   \n",
       "2            1                1         725             201         BENGALURU   \n",
       "3            1                1         250             201         BENGALURU   \n",
       "4            1                1         500             201         BENGALURU   \n",
       "5            1                1         145             201         BENGALURU   \n",
       "\n",
       "  ETD_DST_STOP_NAME  ETD_KMS ETD_TICKET_TYPE_DESCR ETD_TRIP_DIRECTION  \\\n",
       "1       BHADRAVATHI      265             PASSENGER                  U   \n",
       "2            TIPTUR      146             PASSENGER                  U   \n",
       "3       BHADRAVATHI      265             PASSENGER                  U   \n",
       "4       BHADRAVATHI      265             PASSENGER                  U   \n",
       "5            TIPTUR      146             PASSENGER                  U   \n",
       "\n",
       "   ETD_TICKET_NO  ETD_CUR_STOP_NO  ETD_CUR_STOP_CODE  ETD_DST_STOP_NO  \\\n",
       "1         264972                1                  1               16   \n",
       "2         215302                1                  1                9   \n",
       "3         215303                1                  1               16   \n",
       "4         215304                1                  1               16   \n",
       "5         215305                1                  1                9   \n",
       "\n",
       "   ETD_DST_STOP_CODE  PASSENGERS  \n",
       "1                 42           1  \n",
       "2                 24           5  \n",
       "3                 42           1  \n",
       "4                 42           2  \n",
       "5                 24           1  "
      ]
     },
     "execution_count": 16,
     "metadata": {},
     "output_type": "execute_result"
    }
   ],
   "source": [
    "#  Removing ETD_BATTERY_VOLT from the data\n",
    "df.drop(columns=[\"ETD_BATTERY_VOLT\"],inplace=True)\n",
    "df.head()"
   ]
  },
  {
   "cell_type": "code",
   "execution_count": 17,
   "metadata": {
    "slideshow": {
     "slide_type": "skip"
    }
   },
   "outputs": [
    {
     "data": {
      "text/html": [
       "<div>\n",
       "<style scoped>\n",
       "    .dataframe tbody tr th:only-of-type {\n",
       "        vertical-align: middle;\n",
       "    }\n",
       "\n",
       "    .dataframe tbody tr th {\n",
       "        vertical-align: top;\n",
       "    }\n",
       "\n",
       "    .dataframe thead th {\n",
       "        text-align: right;\n",
       "    }\n",
       "</style>\n",
       "<table border=\"1\" class=\"dataframe\">\n",
       "  <thead>\n",
       "    <tr style=\"text-align: right;\">\n",
       "      <th></th>\n",
       "      <th>ETD_DATETIME</th>\n",
       "      <th>ETD_WAYBILL_NO</th>\n",
       "      <th>ETD_ROUTE_NO</th>\n",
       "      <th>ETD_ROUTE_TYPE</th>\n",
       "      <th>ETD_TRIP_NO</th>\n",
       "      <th>ETD_TICKET_TYPE</th>\n",
       "      <th>ETD_AMOUNT</th>\n",
       "      <th>ETD_DEPOT_CODE</th>\n",
       "      <th>ETD_CUR_STOP_NAME</th>\n",
       "      <th>ETD_DST_STOP_NAME</th>\n",
       "      <th>ETD_KMS</th>\n",
       "      <th>ETD_TICKET_TYPE_DESCR</th>\n",
       "      <th>ETD_TRIP_DIRECTION</th>\n",
       "      <th>ETD_TICKET_NO</th>\n",
       "      <th>ETD_CUR_STOP_NO</th>\n",
       "      <th>ETD_DST_STOP_NO</th>\n",
       "      <th>PASSENGERS</th>\n",
       "    </tr>\n",
       "  </thead>\n",
       "  <tbody>\n",
       "    <tr>\n",
       "      <th>1</th>\n",
       "      <td>2018-08-01 22:50:58</td>\n",
       "      <td>620282</td>\n",
       "      <td>1</td>\n",
       "      <td>1</td>\n",
       "      <td>1</td>\n",
       "      <td>1</td>\n",
       "      <td>250</td>\n",
       "      <td>201</td>\n",
       "      <td>BENGALURU</td>\n",
       "      <td>BHADRAVATHI</td>\n",
       "      <td>265</td>\n",
       "      <td>PASSENGER</td>\n",
       "      <td>U</td>\n",
       "      <td>264972</td>\n",
       "      <td>1</td>\n",
       "      <td>16</td>\n",
       "      <td>1</td>\n",
       "    </tr>\n",
       "    <tr>\n",
       "      <th>2</th>\n",
       "      <td>2018-08-01 21:56:58</td>\n",
       "      <td>620281</td>\n",
       "      <td>1</td>\n",
       "      <td>1</td>\n",
       "      <td>1</td>\n",
       "      <td>1</td>\n",
       "      <td>725</td>\n",
       "      <td>201</td>\n",
       "      <td>BENGALURU</td>\n",
       "      <td>TIPTUR</td>\n",
       "      <td>146</td>\n",
       "      <td>PASSENGER</td>\n",
       "      <td>U</td>\n",
       "      <td>215302</td>\n",
       "      <td>1</td>\n",
       "      <td>9</td>\n",
       "      <td>5</td>\n",
       "    </tr>\n",
       "    <tr>\n",
       "      <th>3</th>\n",
       "      <td>2018-08-01 21:58:11</td>\n",
       "      <td>620281</td>\n",
       "      <td>1</td>\n",
       "      <td>1</td>\n",
       "      <td>1</td>\n",
       "      <td>1</td>\n",
       "      <td>250</td>\n",
       "      <td>201</td>\n",
       "      <td>BENGALURU</td>\n",
       "      <td>BHADRAVATHI</td>\n",
       "      <td>265</td>\n",
       "      <td>PASSENGER</td>\n",
       "      <td>U</td>\n",
       "      <td>215303</td>\n",
       "      <td>1</td>\n",
       "      <td>16</td>\n",
       "      <td>1</td>\n",
       "    </tr>\n",
       "    <tr>\n",
       "      <th>4</th>\n",
       "      <td>2018-08-01 22:30:57</td>\n",
       "      <td>620281</td>\n",
       "      <td>1</td>\n",
       "      <td>1</td>\n",
       "      <td>1</td>\n",
       "      <td>1</td>\n",
       "      <td>500</td>\n",
       "      <td>201</td>\n",
       "      <td>BENGALURU</td>\n",
       "      <td>BHADRAVATHI</td>\n",
       "      <td>265</td>\n",
       "      <td>PASSENGER</td>\n",
       "      <td>U</td>\n",
       "      <td>215304</td>\n",
       "      <td>1</td>\n",
       "      <td>16</td>\n",
       "      <td>2</td>\n",
       "    </tr>\n",
       "    <tr>\n",
       "      <th>5</th>\n",
       "      <td>2018-08-01 22:31:36</td>\n",
       "      <td>620281</td>\n",
       "      <td>1</td>\n",
       "      <td>1</td>\n",
       "      <td>1</td>\n",
       "      <td>1</td>\n",
       "      <td>145</td>\n",
       "      <td>201</td>\n",
       "      <td>BENGALURU</td>\n",
       "      <td>TIPTUR</td>\n",
       "      <td>146</td>\n",
       "      <td>PASSENGER</td>\n",
       "      <td>U</td>\n",
       "      <td>215305</td>\n",
       "      <td>1</td>\n",
       "      <td>9</td>\n",
       "      <td>1</td>\n",
       "    </tr>\n",
       "  </tbody>\n",
       "</table>\n",
       "</div>"
      ],
      "text/plain": [
       "         ETD_DATETIME  ETD_WAYBILL_NO  ETD_ROUTE_NO  ETD_ROUTE_TYPE  \\\n",
       "1 2018-08-01 22:50:58          620282             1               1   \n",
       "2 2018-08-01 21:56:58          620281             1               1   \n",
       "3 2018-08-01 21:58:11          620281             1               1   \n",
       "4 2018-08-01 22:30:57          620281             1               1   \n",
       "5 2018-08-01 22:31:36          620281             1               1   \n",
       "\n",
       "   ETD_TRIP_NO  ETD_TICKET_TYPE  ETD_AMOUNT  ETD_DEPOT_CODE ETD_CUR_STOP_NAME  \\\n",
       "1            1                1         250             201         BENGALURU   \n",
       "2            1                1         725             201         BENGALURU   \n",
       "3            1                1         250             201         BENGALURU   \n",
       "4            1                1         500             201         BENGALURU   \n",
       "5            1                1         145             201         BENGALURU   \n",
       "\n",
       "  ETD_DST_STOP_NAME  ETD_KMS ETD_TICKET_TYPE_DESCR ETD_TRIP_DIRECTION  \\\n",
       "1       BHADRAVATHI      265             PASSENGER                  U   \n",
       "2            TIPTUR      146             PASSENGER                  U   \n",
       "3       BHADRAVATHI      265             PASSENGER                  U   \n",
       "4       BHADRAVATHI      265             PASSENGER                  U   \n",
       "5            TIPTUR      146             PASSENGER                  U   \n",
       "\n",
       "   ETD_TICKET_NO  ETD_CUR_STOP_NO  ETD_DST_STOP_NO  PASSENGERS  \n",
       "1         264972                1               16           1  \n",
       "2         215302                1                9           5  \n",
       "3         215303                1               16           1  \n",
       "4         215304                1               16           2  \n",
       "5         215305                1                9           1  "
      ]
     },
     "execution_count": 17,
     "metadata": {},
     "output_type": "execute_result"
    }
   ],
   "source": [
    "# Removing fields ETD_CUR_STOP_CODE and ETD_DST_STOP_CODE\n",
    "df.drop(columns=[\"ETD_CUR_STOP_CODE\", \"ETD_DST_STOP_CODE\"],inplace=True)\n",
    "df.head()"
   ]
  },
  {
   "cell_type": "code",
   "execution_count": 18,
   "metadata": {
    "slideshow": {
     "slide_type": "skip"
    }
   },
   "outputs": [],
   "source": [
    "# Adding month and week component of date and time\n",
    "df[\"WEEK\"] = df.ETD_DATETIME.dt.strftime('%U')\n",
    "df[\"MONTH\"] = df.ETD_DATETIME.dt.month\n",
    "df[\"WEEKDAY\"] = df.ETD_DATETIME.dt.weekday"
   ]
  },
  {
   "cell_type": "markdown",
   "metadata": {
    "slideshow": {
     "slide_type": "slide"
    }
   },
   "source": [
    "#### Export this cleaned data set to csv file \"initialy_cleaned_tickets.csv\" for covenience.\n",
    "\n"
   ]
  },
  {
   "cell_type": "code",
   "execution_count": 19,
   "metadata": {
    "slideshow": {
     "slide_type": "skip"
    }
   },
   "outputs": [],
   "source": [
    "### Exporting this dataset to csv file\n",
    "df.to_csv(\"cleaned_tickets_sold_dataset.csv\",index=False)"
   ]
  },
  {
   "cell_type": "markdown",
   "metadata": {
    "slideshow": {
     "slide_type": "slide"
    }
   },
   "source": [
    "## Univariate Data exploration"
   ]
  },
  {
   "cell_type": "markdown",
   "metadata": {
    "slideshow": {
     "slide_type": "slide"
    }
   },
   "source": [
    "### About ETD_DATETIME\n",
    "\n",
    "#### 1. What is the time span of dataset?\n",
    "#### 2. What is the distribution of ticket sale monthly and week of the year ?"
   ]
  },
  {
   "cell_type": "code",
   "execution_count": 20,
   "metadata": {
    "slideshow": {
     "slide_type": "subslide"
    }
   },
   "outputs": [
    {
     "data": {
      "text/plain": [
       "count                  466956\n",
       "unique                 455685\n",
       "top       2018-09-11 09:23:53\n",
       "freq                        4\n",
       "first     2018-08-01 00:00:29\n",
       "last      2018-12-31 23:52:24\n",
       "Name: ETD_DATETIME, dtype: object"
      ]
     },
     "execution_count": 20,
     "metadata": {},
     "output_type": "execute_result"
    }
   ],
   "source": [
    "# Know the time span of dataset\n",
    "df.ETD_DATETIME.describe()"
   ]
  },
  {
   "cell_type": "code",
   "execution_count": 21,
   "metadata": {
    "slideshow": {
     "slide_type": "subslide"
    }
   },
   "outputs": [
    {
     "data": {
      "image/png": "[encoded data removed]",
      "text/plain": [
       "<Figure size 432x288 with 1 Axes>"
      ]
     },
     "metadata": {
      "needs_background": "light"
     },
     "output_type": "display_data"
    }
   ],
   "source": [
    "# Distribution of tickets issued Monthly\n",
    "default_color = sb.color_palette()[0]\n",
    "sb.countplot(data = df, x ='MONTH', color = default_color)\n",
    "plt.title(\"Distribution of tickets issued Monthly \");\n"
   ]
  },
  {
   "cell_type": "code",
   "execution_count": 22,
   "metadata": {
    "slideshow": {
     "slide_type": "subslide"
    }
   },
   "outputs": [
    {
     "data": {
      "image/png": "[encoded data removed]",
      "text/plain": [
       "<Figure size 720x360 with 1 Axes>"
      ]
     },
     "metadata": {
      "needs_background": "light"
     },
     "output_type": "display_data"
    }
   ],
   "source": [
    "# Distribution of ticktes issued weekly throughout the dataset\n",
    "fig, ax = plt.subplots(nrows=1, figsize = [10,5])\n",
    "default_color = sb.color_palette()[0]\n",
    "sb.countplot(data = df, x = 'WEEK', color = default_color, ax = ax)\n",
    "plt.title(\"Distribution of ticktes issued week of the year\");"
   ]
  },
  {
   "cell_type": "markdown",
   "metadata": {
    "slideshow": {
     "slide_type": "subslide"
    }
   },
   "source": [
    "- Dataset timeline starts from 1st Aug 2018 and ends on 31 Dec 2018.\n",
    "- As per the above bar chart \"Distribution of tickets issued Monthly\", maximum tickets sold in December and least in September\n",
    "- As per the chart \"Distribution of ticktes issued week of the year\", data is almost consistent from week 31 to 51 but the week 30 and 52 shows least tickets sold. This is because there is no full data for week 30 and 52. The timeline starts from the mid of the week 30 and ends at mid of the week 52"
   ]
  },
  {
   "cell_type": "markdown",
   "metadata": {
    "slideshow": {
     "slide_type": "slide"
    }
   },
   "source": [
    "### About ETD_ROUTE_TYPE\n",
    "#### How many route types are there in the dataset?\n",
    "There is only one route type in the dataset"
   ]
  },
  {
   "cell_type": "code",
   "execution_count": 23,
   "metadata": {
    "slideshow": {
     "slide_type": "skip"
    }
   },
   "outputs": [
    {
     "data": {
      "text/plain": [
       "array([1])"
      ]
     },
     "execution_count": 23,
     "metadata": {},
     "output_type": "execute_result"
    }
   ],
   "source": [
    "# No of route type in the dataset\n",
    "df[\"ETD_ROUTE_TYPE\"].unique()"
   ]
  },
  {
   "cell_type": "markdown",
   "metadata": {
    "slideshow": {
     "slide_type": "slide"
    }
   },
   "source": [
    "### About ETD_ROUTE_NO\n",
    "#### How many routes are there in the dataset?\n",
    "There is only one route in the dataset"
   ]
  },
  {
   "cell_type": "code",
   "execution_count": 24,
   "metadata": {
    "slideshow": {
     "slide_type": "skip"
    }
   },
   "outputs": [
    {
     "data": {
      "text/plain": [
       "array([1])"
      ]
     },
     "execution_count": 24,
     "metadata": {},
     "output_type": "execute_result"
    }
   ],
   "source": [
    "# No of route no in the dataset\n",
    "df.ETD_ROUTE_NO.unique()"
   ]
  },
  {
   "cell_type": "markdown",
   "metadata": {
    "slideshow": {
     "slide_type": "slide"
    }
   },
   "source": [
    "### About ETD_WAYBILL_NO:\n",
    "#### How many buses are there in the dataset?\n",
    "There are total number of buses in the dataset: 2805"
   ]
  },
  {
   "cell_type": "code",
   "execution_count": 25,
   "metadata": {
    "slideshow": {
     "slide_type": "skip"
    }
   },
   "outputs": [
    {
     "data": {
      "text/plain": [
       "2805"
      ]
     },
     "execution_count": 25,
     "metadata": {},
     "output_type": "execute_result"
    }
   ],
   "source": [
    "# Total number of buses in the dataset\n",
    "df.ETD_WAYBILL_NO.nunique()"
   ]
  },
  {
   "cell_type": "markdown",
   "metadata": {
    "slideshow": {
     "slide_type": "slide"
    }
   },
   "source": [
    "### About ETD_TICKET_TYPE:\n",
    "#### 1. How many ticket types are there in the dataset ?\n",
    "#### 2. What is the ticket sales based on ticket types ?\n",
    "\n",
    "- Unique ETD_TICKET_TYPEs in the dataset."
   ]
  },
  {
   "cell_type": "code",
   "execution_count": 26,
   "metadata": {
    "slideshow": {
     "slide_type": "subslide"
    }
   },
   "outputs": [
    {
     "data": {
      "text/plain": [
       "array([ 1, 11, 12, 33, 10,  2, 14, 15, 21, 32, 57, 17, 13, 19, 16])"
      ]
     },
     "execution_count": 26,
     "metadata": {},
     "output_type": "execute_result"
    }
   ],
   "source": [
    "df[\"ETD_TICKET_TYPE\"].unique()"
   ]
  },
  {
   "cell_type": "code",
   "execution_count": 27,
   "metadata": {
    "slideshow": {
     "slide_type": "subslide"
    }
   },
   "outputs": [
    {
     "data": {
      "image/png": "[encoded data removed]",
      "text/plain": [
       "<Figure size 720x360 with 1 Axes>"
      ]
     },
     "metadata": {
      "needs_background": "light"
     },
     "output_type": "display_data"
    }
   ],
   "source": [
    "# Distribution of ticket types throughout the dataset\n",
    "fig, ax = plt.subplots(nrows=1, figsize = [10,5])\n",
    "default_color = sb.color_palette()[0]\n",
    "sb.countplot(data = df, x = 'ETD_TICKET_TYPE', color = default_color, ax = ax)\n",
    "plt.title(\"Distribution of ticket types\");"
   ]
  },
  {
   "cell_type": "markdown",
   "metadata": {
    "slideshow": {
     "slide_type": "subslide"
    }
   },
   "source": [
    "- Here we can see that the ticket type 1 covers maximum of the dataset.\n",
    "- second maximum is ticket type 33.\n"
   ]
  },
  {
   "cell_type": "markdown",
   "metadata": {
    "slideshow": {
     "slide_type": "slide"
    }
   },
   "source": [
    "### About ETD_DEPOT_CODE\n",
    "#### How many depots are there in the dataset?\n",
    "- There is only one depot in the dataset"
   ]
  },
  {
   "cell_type": "code",
   "execution_count": 28,
   "metadata": {
    "slideshow": {
     "slide_type": "skip"
    }
   },
   "outputs": [
    {
     "data": {
      "text/plain": [
       "array([201])"
      ]
     },
     "execution_count": 28,
     "metadata": {},
     "output_type": "execute_result"
    }
   ],
   "source": [
    "df[\"ETD_DEPOT_CODE\"].unique()"
   ]
  },
  {
   "cell_type": "markdown",
   "metadata": {
    "slideshow": {
     "slide_type": "slide"
    }
   },
   "source": [
    "### Bus stops in the dataset\n",
    "#### How many bus stops are there in the dataset?\n",
    "- There are 17 bus stops in the dataset."
   ]
  },
  {
   "cell_type": "code",
   "execution_count": 29,
   "metadata": {
    "slideshow": {
     "slide_type": "skip"
    }
   },
   "outputs": [
    {
     "data": {
      "text/plain": [
       "17"
      ]
     },
     "execution_count": 29,
     "metadata": {},
     "output_type": "execute_result"
    }
   ],
   "source": [
    "# No of bus stops\n",
    "len(set(list(df[\"ETD_CUR_STOP_NAME\"].unique()) + list(df[\"ETD_DST_STOP_NAME\"].unique())))"
   ]
  },
  {
   "cell_type": "markdown",
   "metadata": {
    "slideshow": {
     "slide_type": "slide"
    }
   },
   "source": [
    "### About ETD_TRIP_DIRECTION\n",
    "#### 1. How many trip directions are there in the dataset?\n",
    "#### 2. What is the distribution of ticket sales based on trip direction ?"
   ]
  },
  {
   "cell_type": "code",
   "execution_count": 30,
   "metadata": {
    "slideshow": {
     "slide_type": "subslide"
    }
   },
   "outputs": [
    {
     "data": {
      "image/png": "[encoded data removed]",
      "text/plain": [
       "<Figure size 720x360 with 1 Axes>"
      ]
     },
     "metadata": {
      "needs_background": "light"
     },
     "output_type": "display_data"
    }
   ],
   "source": [
    "# Trip directions distribution throughout the dataset\n",
    "fig, ax = plt.subplots(nrows=1, figsize = [10,5])\n",
    "default_color = sb.color_palette()[0]\n",
    "sb.countplot(data = df, x = 'ETD_TRIP_DIRECTION', color = default_color, ax = ax)\n",
    "plt.title(\"Distribution of trip directions\");"
   ]
  },
  {
   "cell_type": "markdown",
   "metadata": {
    "slideshow": {
     "slide_type": "subslide"
    }
   },
   "source": [
    "- Here maximum tickets sold for downward direction."
   ]
  },
  {
   "cell_type": "markdown",
   "metadata": {
    "slideshow": {
     "slide_type": "slide"
    }
   },
   "source": [
    "### About PASSENGERS:\n",
    "#### Lets check the necessary statistics."
   ]
  },
  {
   "cell_type": "code",
   "execution_count": 31,
   "metadata": {
    "slideshow": {
     "slide_type": "subslide"
    }
   },
   "outputs": [
    {
     "data": {
      "text/plain": [
       "count    466956.000000\n",
       "mean          1.368349\n",
       "std           1.062739\n",
       "min           1.000000\n",
       "25%           1.000000\n",
       "50%           1.000000\n",
       "75%           1.000000\n",
       "max          32.000000\n",
       "Name: PASSENGERS, dtype: float64"
      ]
     },
     "execution_count": 31,
     "metadata": {},
     "output_type": "execute_result"
    }
   ],
   "source": [
    "# Describe passengers in the dataset\n",
    "df.PASSENGERS.describe()"
   ]
  },
  {
   "cell_type": "markdown",
   "metadata": {
    "slideshow": {
     "slide_type": "subslide"
    }
   },
   "source": [
    "- Maximum passengers boarded a bus is 32, which seems unrealistic or very rare.\n",
    "- Minimum, median and mean are almost same, which means that in more than 75% of the data one ticket sold contains only one passenger."
   ]
  },
  {
   "cell_type": "markdown",
   "metadata": {
    "slideshow": {
     "slide_type": "slide"
    }
   },
   "source": [
    "### About ETD_AMOUNT:\n",
    "#### 1. What is the distribution of fares recieved in the dataset?\n",
    "#### 2. Check the useful statistics of fares recieved?"
   ]
  },
  {
   "cell_type": "code",
   "execution_count": 32,
   "metadata": {
    "slideshow": {
     "slide_type": "subslide"
    }
   },
   "outputs": [
    {
     "data": {
      "image/png": "[encoded data removed]",
      "text/plain": [
       "<Figure size 576x360 with 1 Axes>"
      ]
     },
     "metadata": {
      "needs_background": "light"
     },
     "output_type": "display_data"
    }
   ],
   "source": [
    "# start with a standard-scaled plot for ETD_AMOUNT\n",
    "binsize = 50\n",
    "bins = np.arange(0, df['ETD_AMOUNT'].max()+binsize, binsize)\n",
    "\n",
    "plt.figure(figsize=[8, 5])\n",
    "plt.hist(data = df, x = 'ETD_AMOUNT', bins = bins)\n",
    "plt.xlabel('Fare (inr)')\n",
    "plt.ylabel('Count')\n",
    "plt.title('Fare recieved for tickets issued distribution')\n",
    "plt.show();"
   ]
  },
  {
   "cell_type": "code",
   "execution_count": 33,
   "metadata": {
    "slideshow": {
     "slide_type": "subslide"
    }
   },
   "outputs": [
    {
     "data": {
      "text/plain": [
       "count    466956.000000\n",
       "mean        100.141379\n",
       "std         121.750042\n",
       "min           0.000000\n",
       "25%          25.000000\n",
       "50%          55.000000\n",
       "75%         145.000000\n",
       "max        2820.000000\n",
       "Name: ETD_AMOUNT, dtype: float64"
      ]
     },
     "execution_count": 33,
     "metadata": {},
     "output_type": "execute_result"
    }
   ],
   "source": [
    "df['ETD_AMOUNT'].describe()"
   ]
  },
  {
   "cell_type": "markdown",
   "metadata": {
    "slideshow": {
     "slide_type": "subslide"
    }
   },
   "source": [
    "- Here more 75% of the tickets sold for fare less than and equal to 145.\n",
    "- There is a maximum fare taken which is 2820, which is because the ticket sold may have more than one passengers. As already analysed column PASSENGERS, throughout the data maximum one ticket sold to one passenger."
   ]
  },
  {
   "cell_type": "markdown",
   "metadata": {
    "slideshow": {
     "slide_type": "slide"
    }
   },
   "source": [
    "### About ETD_KMS (Distance between two bus stops)\n",
    "#### 1. What is the distribution of distance between two bus stops in the dataset ?\n",
    "#### 2. Check the useful statistics of distance between ?"
   ]
  },
  {
   "cell_type": "code",
   "execution_count": 34,
   "metadata": {
    "slideshow": {
     "slide_type": "subslide"
    }
   },
   "outputs": [
    {
     "data": {
      "text/plain": [
       "count    466956.000000\n",
       "mean         87.395962\n",
       "std          86.738131\n",
       "min           0.000000\n",
       "25%          24.000000\n",
       "50%          52.000000\n",
       "75%         128.000000\n",
       "max         277.000000\n",
       "Name: ETD_KMS, dtype: float64"
      ]
     },
     "execution_count": 34,
     "metadata": {},
     "output_type": "execute_result"
    }
   ],
   "source": [
    "# Describe distance between stops in Kilometers\n",
    "df.ETD_KMS.describe()"
   ]
  },
  {
   "cell_type": "code",
   "execution_count": 35,
   "metadata": {
    "slideshow": {
     "slide_type": "subslide"
    }
   },
   "outputs": [
    {
     "data": {
      "image/png": "[encoded data removed]",
      "text/plain": [
       "<Figure size 432x288 with 1 Axes>"
      ]
     },
     "metadata": {
      "needs_background": "light"
     },
     "output_type": "display_data"
    }
   ],
   "source": [
    "sb.distplot(df.ETD_KMS,kde=False )\n",
    "plt.title(\"Distance between stops Distribution\");"
   ]
  },
  {
   "cell_type": "markdown",
   "metadata": {
    "slideshow": {
     "slide_type": "subslide"
    }
   },
   "source": [
    "- Average distance is 87, which is different from median 52. Standard deviation is considerably high.\n",
    "- Though in the distribution chart it seems the maximum tickets sold for distance between more than 0 to less than 55.\n",
    "- 75% of tickets sold for distance less than or equal to 128.\n",
    "- There is a ticket for minimum distance 0, which seems unlikely."
   ]
  },
  {
   "cell_type": "markdown",
   "metadata": {
    "slideshow": {
     "slide_type": "slide"
    }
   },
   "source": [
    "## Bivariate Data exploration\n",
    "\n",
    "### Scope of analysis\n",
    "- There are two numeric variables ETD_AMOUNT, PASSENGERS and ETD_KMS\n",
    "- There are  categorical variables ETD_WAYBILL_NO, ETD_TRIP_NO, ETD_TICKET_TYPE, ETD_CUR_STOP_NO and ETD_DST_STOP_NO\n",
    "- There are variables whose count with desired grouping matters are ETD_WAYBILL_NO (no of buses) and ETD_TRIP_NO (no of trips)"
   ]
  },
  {
   "cell_type": "code",
   "execution_count": 36,
   "metadata": {
    "slideshow": {
     "slide_type": "skip"
    }
   },
   "outputs": [],
   "source": [
    "# Collect all relevant variables\n",
    "numeric_vars = ['ETD_AMOUNT', 'PASSENGERS', 'ETD_KMS']\n",
    "categoric_vars = ['ETD_TICKET_TYPE',\"ETD_CUR_STOP_NO\",\"ETD_DST_STOP_NO\"]\n",
    "count_vars = ['ETD_WAYBILL_NO', 'ETD_TRIP_NO']\n"
   ]
  },
  {
   "cell_type": "markdown",
   "metadata": {
    "slideshow": {
     "slide_type": "slide"
    }
   },
   "source": [
    "### Correlation plot for all numeric variables\n",
    "Let see if there are any correlations among numeric variables. ETD_AMOUNT (Fare Recieved), PASSENGERS (# of passengers boarded on a ticket) and ETD_KMS (distance between two stops)\n",
    "\n",
    "Here there should be a correlation between fares recieved and ETD_KMS. But correlation of either with PASSENGERS would be interesting."
   ]
  },
  {
   "cell_type": "code",
   "execution_count": 49,
   "metadata": {
    "slideshow": {
     "slide_type": "subslide"
    }
   },
   "outputs": [
    {
     "data": {
      "image/png": "[encoded data removed]",
      "text/plain": [
       "<Figure size 576x360 with 2 Axes>"
      ]
     },
     "metadata": {
      "needs_background": "light"
     },
     "output_type": "display_data"
    }
   ],
   "source": [
    "# correlation plot\n",
    "plt.figure(figsize = [8, 5])\n",
    "sb.heatmap(df[numeric_vars].corr(), annot = True, fmt = '.3f',\n",
    "           cmap = 'vlag_r', center = 0)\n",
    "plt.title(\"Correlation matrix for numeric variables\")\n",
    "plt.show();"
   ]
  },
  {
   "cell_type": "markdown",
   "metadata": {
    "slideshow": {
     "slide_type": "subslide"
    }
   },
   "source": [
    "\n",
    "- Here there is a strong positive correlation between ETD_AMOUNT and ETD_KMS, which evdident though. Though the fare recieved depends on no of passengers per ticket also.\n",
    "- Rest combinations does not show any correlation.\n",
    "\n",
    "#### Correlation between ETD_AMOUNT and ETD_KMS can be visualized as below:"
   ]
  },
  {
   "cell_type": "code",
   "execution_count": 38,
   "metadata": {
    "slideshow": {
     "slide_type": "subslide"
    }
   },
   "outputs": [
    {
     "data": {
      "image/png": "[encoded data removed]",
      "text/plain": [
       "<Figure size 432x288 with 1 Axes>"
      ]
     },
     "metadata": {
      "needs_background": "light"
     },
     "output_type": "display_data"
    }
   ],
   "source": [
    "# scatter plot of Distance in KMS vs. Amount in inr, with log transform on price axis\n",
    "\n",
    "plt.scatter(data = df, x = 'ETD_KMS', y = 'ETD_AMOUNT', alpha = 1/10)\n",
    "plt.xlabel('ETD_KMS')\n",
    "plt.ylabel('Amount (inr)')\n",
    "plt.title(\"Distance between stops vs fare recieved\")\n",
    "plt.show();"
   ]
  },
  {
   "cell_type": "markdown",
   "metadata": {
    "slideshow": {
     "slide_type": "slide"
    }
   },
   "source": [
    "### No of buses with trips\n",
    "How many buses were running per trip throughout the data ?"
   ]
  },
  {
   "cell_type": "code",
   "execution_count": 39,
   "metadata": {
    "slideshow": {
     "slide_type": "subslide"
    }
   },
   "outputs": [
    {
     "data": {
      "image/png": "[encoded data removed]",
      "text/plain": [
       "<Figure size 432x288 with 1 Axes>"
      ]
     },
     "metadata": {
      "needs_background": "light"
     },
     "output_type": "display_data"
    }
   ],
   "source": [
    "# Number of buses running for trips\n",
    "a = (df.groupby(\"ETD_TRIP_NO\").ETD_WAYBILL_NO.nunique())\n",
    "default_color = sb.color_palette()[0]\n",
    "sb.barplot(x=a.index, y=a, color=default_color)\n",
    "plt.title(\"Number of buses with respect to trips\");"
   ]
  },
  {
   "cell_type": "markdown",
   "metadata": {
    "slideshow": {
     "slide_type": "subslide"
    }
   },
   "source": [
    "- Here for trip no 1 and 2, maximum buses are allocated.\n",
    "- Since there are only 2805 buses in the dataset. It means buses are running for both trips 1 and 2"
   ]
  },
  {
   "cell_type": "markdown",
   "metadata": {
    "slideshow": {
     "slide_type": "slide"
    }
   },
   "source": [
    "### Bus stops boarded by passengers in a given trip\n",
    "Here the intention is to learn about how many bus stops were busy per trip?\n"
   ]
  },
  {
   "cell_type": "code",
   "execution_count": 40,
   "metadata": {
    "slideshow": {
     "slide_type": "subslide"
    }
   },
   "outputs": [
    {
     "data": {
      "image/png": "[encoded data removed]",
      "text/plain": [
       "<Figure size 432x288 with 1 Axes>"
      ]
     },
     "metadata": {
      "needs_background": "light"
     },
     "output_type": "display_data"
    }
   ],
   "source": [
    "a = (df.groupby(\"ETD_TRIP_NO\").ETD_CUR_STOP_NO.nunique())\n",
    "default_color = sb.color_palette()[0]\n",
    "sb.barplot(x=a.index, y=a, color=default_color)\n",
    "plt.title(\"No of stops with respect to trips\")\n",
    "plt.ylabel(\"No of bus stops\")\n",
    "plt.xlabel(\"Trips\");"
   ]
  },
  {
   "cell_type": "markdown",
   "metadata": {
    "slideshow": {
     "slide_type": "subslide"
    }
   },
   "source": [
    "- There are 17 bus stops\n",
    "- In trips 6, 7 and 8, buses passes through 14 bus stops, in trip 5 bus passes through 15 bus stops and , trips 1,2,3, and 4 bus passes through all bus stops."
   ]
  },
  {
   "cell_type": "markdown",
   "metadata": {
    "slideshow": {
     "slide_type": "slide"
    }
   },
   "source": [
    "### Ticket type vs passengers\n",
    "Here the intentions are as follows:\n",
    "- What is the distribution of passengers boarded per ticket type?\n",
    "- Average passengers per ticket ?\n",
    "- Average passengers per boarding bus stop ?"
   ]
  },
  {
   "cell_type": "code",
   "execution_count": 48,
   "metadata": {
    "slideshow": {
     "slide_type": "subslide"
    }
   },
   "outputs": [
    {
     "data": {
      "image/png": "[encoded data removed]",
      "text/plain": [
       "<Figure size 1296x360 with 1 Axes>"
      ]
     },
     "metadata": {
      "needs_background": "light"
     },
     "output_type": "display_data"
    }
   ],
   "source": [
    "plt.figure(figsize=[18, 5])\n",
    "sb.boxplot(data = df, x = 'ETD_TICKET_TYPE', y = 'PASSENGERS',\n",
    "               color = default_color)\n",
    "plt.title(\"Passengers vs Ticket types box plot\");"
   ]
  },
  {
   "cell_type": "code",
   "execution_count": 45,
   "metadata": {
    "slideshow": {
     "slide_type": "subslide"
    }
   },
   "outputs": [
    {
     "data": {
      "image/png": "[encoded data removed]",
      "text/plain": [
       "<Figure size 1296x360 with 1 Axes>"
      ]
     },
     "metadata": {
      "needs_background": "light"
     },
     "output_type": "display_data"
    }
   ],
   "source": [
    "plt.figure(figsize=[18, 5])\n",
    "sb.boxplot(data = df, x = 'ETD_CUR_STOP_NO', y = 'PASSENGERS',\n",
    "               color = default_color)\n",
    "plt.title(\"Passengers vs Boarding bus stop box plot\");"
   ]
  },
  {
   "cell_type": "code",
   "execution_count": 46,
   "metadata": {
    "slideshow": {
     "slide_type": "subslide"
    }
   },
   "outputs": [
    {
     "data": {
      "image/png": "[encoded data removed]",
      "text/plain": [
       "<Figure size 432x288 with 1 Axes>"
      ]
     },
     "metadata": {
      "needs_background": "light"
     },
     "output_type": "display_data"
    }
   ],
   "source": [
    "a = df.groupby(\"ETD_TICKET_TYPE\").PASSENGERS.mean()\n",
    "sb.barplot(x=a.index, y=a, color=default_color)\n",
    "plt.title(\"Passengers vs Ticket Types\");"
   ]
  },
  {
   "cell_type": "code",
   "execution_count": 47,
   "metadata": {
    "slideshow": {
     "slide_type": "subslide"
    }
   },
   "outputs": [
    {
     "data": {
      "image/png": "[encoded data removed]",
      "text/plain": [
       "<Figure size 432x288 with 1 Axes>"
      ]
     },
     "metadata": {
      "needs_background": "light"
     },
     "output_type": "display_data"
    }
   ],
   "source": [
    "a = df.groupby(\"ETD_CUR_STOP_NO\").PASSENGERS.mean()\n",
    "sb.barplot(x=a.index, y=a, color=default_color)\n",
    "plt.title(\"Passengers vs Boarding bus stop\");"
   ]
  },
  {
   "cell_type": "markdown",
   "metadata": {
    "slideshow": {
     "slide_type": "subslide"
    }
   },
   "source": [
    "- Here for ticket type 11 average passengers more than 4, which is maximum.\n",
    "- For ticket types 12 to 19 and 32 to 57, average passenger is one.\n",
    "- On average close to 1.6, passengers boards from bus stop 6.\n",
    "- Boxplot for passengers with respect to boarding bus stop does not give clear information. Though it seems from bus top 1, once more than 30 passengers boarded which according to dataset is highly unlikely, can be considered as outlier. "
   ]
  }
 ],
 "metadata": {
  "celltoolbar": "Slideshow",
  "kernelspec": {
   "display_name": "Python 3",
   "language": "python",
   "name": "python3"
  },
  "language_info": {
   "codemirror_mode": {
    "name": "ipython",
    "version": 3
   },
   "file_extension": ".py",
   "mimetype": "text/x-python",
   "name": "python",
   "nbconvert_exporter": "python",
   "pygments_lexer": "ipython3",
   "version": "3.6.4"
  }
 },
 "nbformat": 4,
 "nbformat_minor": 2
}
