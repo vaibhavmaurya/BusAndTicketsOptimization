{
 "cells": [
  {
   "cell_type": "code",
   "execution_count": 1,
   "metadata": {},
   "outputs": [],
   "source": [
    "import os, sys\n",
    "sys.path.insert(0,os.path.pardir)\n",
    "from src import DataProcessingModule as dp"
   ]
  },
  {
   "cell_type": "code",
   "execution_count": null,
   "metadata": {},
   "outputs": [],
   "source": []
  },
  {
   "cell_type": "code",
   "execution_count": 2,
   "metadata": {},
   "outputs": [],
   "source": [
    "dir_dict = {\n",
    "        'raw' : '../data/raw',\n",
    "        'clean' : '../data/clean_data',\n",
    "        'process' : '../data/processed',\n",
    "        'parser' : '../src/datastructure.json',\n",
    "        'db' : '../data/db'\n",
    "}\n",
    "dp_class = dp.DataPreprocessing(dir_dict)"
   ]
  },
  {
   "cell_type": "code",
   "execution_count": 3,
   "metadata": {},
   "outputs": [
    {
     "name": "stdout",
     "output_type": "stream",
     "text": [
      "file .DS_Store is moving to raw directory\n",
      "file .DS_Store is getting deleted from clean_data directory\n",
      ">>>>> Data files are reset <<<<<<<\n",
      ">>>>> Data cleaning starts <<<<<<<\n",
      "new format is ../data/clean_data/full_data.csv\n",
      "Text or lst file it is \n",
      ">>> Created New output File\n"
     ]
    }
   ],
   "source": [
    "dp_class.processData()"
   ]
  },
  {
   "cell_type": "code",
   "execution_count": 4,
   "metadata": {},
   "outputs": [],
   "source": [
    "import pandas as pd\n",
    "import numpy as np\n",
    "import matplotlib.pyplot as plt\n",
    "import seaborn as sns\n",
    "%matplotlib inline"
   ]
  },
  {
   "cell_type": "code",
   "execution_count": 5,
   "metadata": {},
   "outputs": [],
   "source": [
    "df = pd.read_csv('../data/clean_data/full_data.csv', parse_dates={'ETD_DATETIME':['ETD_DATE','ETD_TD_TIME']})\n"
   ]
  },
  {
   "cell_type": "code",
   "execution_count": 6,
   "metadata": {},
   "outputs": [
    {
     "name": "stdout",
     "output_type": "stream",
     "text": [
      "<class 'pandas.core.frame.DataFrame'>\n",
      "RangeIndex: 577850 entries, 0 to 577849\n",
      "Data columns (total 24 columns):\n",
      "ETD_DATETIME             577850 non-null datetime64[ns]\n",
      "ETD_WAYBILL_NO           577850 non-null int64\n",
      "ETD_ROUTE_NO             577850 non-null int64\n",
      "ETD_ROUTE_TYPE           577850 non-null int64\n",
      "ETD_TRIP_NO              577850 non-null int64\n",
      "ETD_TICKET_TYPE          577850 non-null int64\n",
      "ETD_ADULTS               577850 non-null int64\n",
      "ETD_CHILD                577850 non-null int64\n",
      "ETD_AMOUNT               577850 non-null int64\n",
      "ETD_DEPOT_CODE           577850 non-null int64\n",
      "ETD_BATTERY_VOLT         577850 non-null float64\n",
      "ETD_CUR_STOP_NAME        577850 non-null object\n",
      "ETD_DST_STOP_NAME        577850 non-null object\n",
      "ETD_KMS                  577850 non-null int64\n",
      "ETD_TICKET_TYPE_DESCR    577850 non-null object\n",
      "ETD_TRIP_DIRECTION       577850 non-null object\n",
      "ETD_TICKET_NO            577850 non-null int64\n",
      "ETD_TICKET_SUBNO         577850 non-null int64\n",
      "ETD_CUR_STOP_NO          577850 non-null int64\n",
      "ETD_CUR_STOP_CODE        577850 non-null int64\n",
      "ETD_DST_STOP_NO          577850 non-null int64\n",
      "ETD_DST_STOP_CODE        577850 non-null int64\n",
      "ETD_CUR_SUB_STAGE        577850 non-null int64\n",
      "ETD_DST_SUB_STAGE        577850 non-null int64\n",
      "dtypes: datetime64[ns](1), float64(1), int64(18), object(4)\n",
      "memory usage: 105.8+ MB\n"
     ]
    }
   ],
   "source": [
    "df.info()"
   ]
  },
  {
   "cell_type": "code",
   "execution_count": 7,
   "metadata": {},
   "outputs": [
    {
     "data": {
      "text/html": [
       "<div>\n",
       "<style scoped>\n",
       "    .dataframe tbody tr th:only-of-type {\n",
       "        vertical-align: middle;\n",
       "    }\n",
       "\n",
       "    .dataframe tbody tr th {\n",
       "        vertical-align: top;\n",
       "    }\n",
       "\n",
       "    .dataframe thead th {\n",
       "        text-align: right;\n",
       "    }\n",
       "</style>\n",
       "<table border=\"1\" class=\"dataframe\">\n",
       "  <thead>\n",
       "    <tr style=\"text-align: right;\">\n",
       "      <th></th>\n",
       "      <th>ETD_DATETIME</th>\n",
       "      <th>ETD_WAYBILL_NO</th>\n",
       "      <th>ETD_ROUTE_NO</th>\n",
       "      <th>ETD_ROUTE_TYPE</th>\n",
       "      <th>ETD_TRIP_NO</th>\n",
       "      <th>ETD_TICKET_TYPE</th>\n",
       "      <th>ETD_ADULTS</th>\n",
       "      <th>ETD_CHILD</th>\n",
       "      <th>ETD_AMOUNT</th>\n",
       "      <th>ETD_DEPOT_CODE</th>\n",
       "      <th>...</th>\n",
       "      <th>ETD_TICKET_TYPE_DESCR</th>\n",
       "      <th>ETD_TRIP_DIRECTION</th>\n",
       "      <th>ETD_TICKET_NO</th>\n",
       "      <th>ETD_TICKET_SUBNO</th>\n",
       "      <th>ETD_CUR_STOP_NO</th>\n",
       "      <th>ETD_CUR_STOP_CODE</th>\n",
       "      <th>ETD_DST_STOP_NO</th>\n",
       "      <th>ETD_DST_STOP_CODE</th>\n",
       "      <th>ETD_CUR_SUB_STAGE</th>\n",
       "      <th>ETD_DST_SUB_STAGE</th>\n",
       "    </tr>\n",
       "  </thead>\n",
       "  <tbody>\n",
       "    <tr>\n",
       "      <th>0</th>\n",
       "      <td>2018-08-01 23:57:13</td>\n",
       "      <td>620278</td>\n",
       "      <td>1</td>\n",
       "      <td>1</td>\n",
       "      <td>1</td>\n",
       "      <td>8</td>\n",
       "      <td>0</td>\n",
       "      <td>0</td>\n",
       "      <td>0</td>\n",
       "      <td>201</td>\n",
       "      <td>...</td>\n",
       "      <td>STAGE CHNGE</td>\n",
       "      <td>U</td>\n",
       "      <td>216253</td>\n",
       "      <td>0</td>\n",
       "      <td>4</td>\n",
       "      <td>5</td>\n",
       "      <td>4</td>\n",
       "      <td>6</td>\n",
       "      <td>0</td>\n",
       "      <td>0</td>\n",
       "    </tr>\n",
       "    <tr>\n",
       "      <th>1</th>\n",
       "      <td>2018-08-01 22:50:58</td>\n",
       "      <td>620282</td>\n",
       "      <td>1</td>\n",
       "      <td>1</td>\n",
       "      <td>1</td>\n",
       "      <td>1</td>\n",
       "      <td>1</td>\n",
       "      <td>0</td>\n",
       "      <td>250</td>\n",
       "      <td>201</td>\n",
       "      <td>...</td>\n",
       "      <td>PASSENGER</td>\n",
       "      <td>U</td>\n",
       "      <td>264972</td>\n",
       "      <td>0</td>\n",
       "      <td>1</td>\n",
       "      <td>1</td>\n",
       "      <td>16</td>\n",
       "      <td>42</td>\n",
       "      <td>0</td>\n",
       "      <td>0</td>\n",
       "    </tr>\n",
       "    <tr>\n",
       "      <th>2</th>\n",
       "      <td>2018-08-01 21:56:58</td>\n",
       "      <td>620281</td>\n",
       "      <td>1</td>\n",
       "      <td>1</td>\n",
       "      <td>1</td>\n",
       "      <td>1</td>\n",
       "      <td>5</td>\n",
       "      <td>0</td>\n",
       "      <td>725</td>\n",
       "      <td>201</td>\n",
       "      <td>...</td>\n",
       "      <td>PASSENGER</td>\n",
       "      <td>U</td>\n",
       "      <td>215302</td>\n",
       "      <td>0</td>\n",
       "      <td>1</td>\n",
       "      <td>1</td>\n",
       "      <td>9</td>\n",
       "      <td>24</td>\n",
       "      <td>0</td>\n",
       "      <td>0</td>\n",
       "    </tr>\n",
       "    <tr>\n",
       "      <th>3</th>\n",
       "      <td>2018-08-01 21:58:11</td>\n",
       "      <td>620281</td>\n",
       "      <td>1</td>\n",
       "      <td>1</td>\n",
       "      <td>1</td>\n",
       "      <td>1</td>\n",
       "      <td>1</td>\n",
       "      <td>0</td>\n",
       "      <td>250</td>\n",
       "      <td>201</td>\n",
       "      <td>...</td>\n",
       "      <td>PASSENGER</td>\n",
       "      <td>U</td>\n",
       "      <td>215303</td>\n",
       "      <td>0</td>\n",
       "      <td>1</td>\n",
       "      <td>1</td>\n",
       "      <td>16</td>\n",
       "      <td>42</td>\n",
       "      <td>0</td>\n",
       "      <td>0</td>\n",
       "    </tr>\n",
       "    <tr>\n",
       "      <th>4</th>\n",
       "      <td>2018-08-01 22:30:57</td>\n",
       "      <td>620281</td>\n",
       "      <td>1</td>\n",
       "      <td>1</td>\n",
       "      <td>1</td>\n",
       "      <td>1</td>\n",
       "      <td>2</td>\n",
       "      <td>0</td>\n",
       "      <td>500</td>\n",
       "      <td>201</td>\n",
       "      <td>...</td>\n",
       "      <td>PASSENGER</td>\n",
       "      <td>U</td>\n",
       "      <td>215304</td>\n",
       "      <td>0</td>\n",
       "      <td>1</td>\n",
       "      <td>1</td>\n",
       "      <td>16</td>\n",
       "      <td>42</td>\n",
       "      <td>0</td>\n",
       "      <td>0</td>\n",
       "    </tr>\n",
       "  </tbody>\n",
       "</table>\n",
       "<p>5 rows × 24 columns</p>\n",
       "</div>"
      ],
      "text/plain": [
       "         ETD_DATETIME  ETD_WAYBILL_NO  ETD_ROUTE_NO  ETD_ROUTE_TYPE  \\\n",
       "0 2018-08-01 23:57:13          620278             1               1   \n",
       "1 2018-08-01 22:50:58          620282             1               1   \n",
       "2 2018-08-01 21:56:58          620281             1               1   \n",
       "3 2018-08-01 21:58:11          620281             1               1   \n",
       "4 2018-08-01 22:30:57          620281             1               1   \n",
       "\n",
       "   ETD_TRIP_NO  ETD_TICKET_TYPE  ETD_ADULTS  ETD_CHILD  ETD_AMOUNT  \\\n",
       "0            1                8           0          0           0   \n",
       "1            1                1           1          0         250   \n",
       "2            1                1           5          0         725   \n",
       "3            1                1           1          0         250   \n",
       "4            1                1           2          0         500   \n",
       "\n",
       "   ETD_DEPOT_CODE  ...  ETD_TICKET_TYPE_DESCR ETD_TRIP_DIRECTION  \\\n",
       "0             201  ...            STAGE CHNGE                  U   \n",
       "1             201  ...              PASSENGER                  U   \n",
       "2             201  ...              PASSENGER                  U   \n",
       "3             201  ...              PASSENGER                  U   \n",
       "4             201  ...              PASSENGER                  U   \n",
       "\n",
       "  ETD_TICKET_NO  ETD_TICKET_SUBNO ETD_CUR_STOP_NO ETD_CUR_STOP_CODE  \\\n",
       "0        216253                 0               4                 5   \n",
       "1        264972                 0               1                 1   \n",
       "2        215302                 0               1                 1   \n",
       "3        215303                 0               1                 1   \n",
       "4        215304                 0               1                 1   \n",
       "\n",
       "   ETD_DST_STOP_NO  ETD_DST_STOP_CODE  ETD_CUR_SUB_STAGE  ETD_DST_SUB_STAGE  \n",
       "0                4                  6                  0                  0  \n",
       "1               16                 42                  0                  0  \n",
       "2                9                 24                  0                  0  \n",
       "3               16                 42                  0                  0  \n",
       "4               16                 42                  0                  0  \n",
       "\n",
       "[5 rows x 24 columns]"
      ]
     },
     "execution_count": 7,
     "metadata": {},
     "output_type": "execute_result"
    }
   ],
   "source": [
    "df.head()"
   ]
  },
  {
   "cell_type": "code",
   "execution_count": 8,
   "metadata": {},
   "outputs": [
    {
     "data": {
      "text/plain": [
       "ETD_DATETIME             2018-08-01 23:57:13\n",
       "ETD_WAYBILL_NO                        620278\n",
       "ETD_ROUTE_NO                               1\n",
       "ETD_ROUTE_TYPE                             1\n",
       "ETD_TRIP_NO                                1\n",
       "ETD_TICKET_TYPE                            8\n",
       "ETD_ADULTS                                 0\n",
       "ETD_CHILD                                  0\n",
       "ETD_AMOUNT                                 0\n",
       "ETD_DEPOT_CODE                           201\n",
       "ETD_BATTERY_VOLT                        8.04\n",
       "ETD_CUR_STOP_NAME                NELAMANGALA\n",
       "ETD_DST_STOP_NAME                NELAMANGALA\n",
       "ETD_KMS                                    0\n",
       "ETD_TICKET_TYPE_DESCR            STAGE CHNGE\n",
       "ETD_TRIP_DIRECTION                         U\n",
       "ETD_TICKET_NO                         216253\n",
       "ETD_TICKET_SUBNO                           0\n",
       "ETD_CUR_STOP_NO                            4\n",
       "ETD_CUR_STOP_CODE                          5\n",
       "ETD_DST_STOP_NO                            4\n",
       "ETD_DST_STOP_CODE                          6\n",
       "ETD_CUR_SUB_STAGE                          0\n",
       "ETD_DST_SUB_STAGE                          0\n",
       "Name: 0, dtype: object"
      ]
     },
     "execution_count": 8,
     "metadata": {},
     "output_type": "execute_result"
    }
   ],
   "source": [
    "df.iloc[0]"
   ]
  },
  {
   "cell_type": "code",
   "execution_count": 9,
   "metadata": {},
   "outputs": [
    {
     "data": {
      "text/plain": [
       "Index(['ETD_DATETIME', 'ETD_WAYBILL_NO', 'ETD_ROUTE_NO', 'ETD_ROUTE_TYPE',\n",
       "       'ETD_TRIP_NO', 'ETD_TICKET_TYPE', 'ETD_ADULTS', 'ETD_CHILD',\n",
       "       'ETD_AMOUNT', 'ETD_DEPOT_CODE', 'ETD_BATTERY_VOLT', 'ETD_CUR_STOP_NAME',\n",
       "       'ETD_DST_STOP_NAME', 'ETD_KMS', 'ETD_TICKET_TYPE_DESCR',\n",
       "       'ETD_TRIP_DIRECTION', 'ETD_TICKET_NO', 'ETD_TICKET_SUBNO',\n",
       "       'ETD_CUR_STOP_NO', 'ETD_CUR_STOP_CODE', 'ETD_DST_STOP_NO',\n",
       "       'ETD_DST_STOP_CODE', 'ETD_CUR_SUB_STAGE', 'ETD_DST_SUB_STAGE'],\n",
       "      dtype='object')"
      ]
     },
     "execution_count": 9,
     "metadata": {},
     "output_type": "execute_result"
    }
   ],
   "source": [
    "df.columns"
   ]
  },
  {
   "cell_type": "code",
   "execution_count": 10,
   "metadata": {},
   "outputs": [],
   "source": [
    "bus_identifier = \"ETD_WAYBILL_NO\"\n",
    "route_identifier = \"ETD_ROUTE_NO\"\n",
    "qualitative_variables = [\"ETD_ROUTE_TYPE\",\"ETD_TICKET_TYPE\", \"ETD_DEPOT_CODE\", \"ETD_CUR_STOP_NAME\",\"ETD_DST_STOP_NAME\",\n",
    "                         \"ETD_TRIP_DIRECTION\"                        \n",
    "                        ]\n",
    "\n",
    "quantitative_variables = [\"ETD_ADULTS\",\"ETD_CHILD\",\"ETD_AMOUNT\", \"ETD_BATTERY_VOLT\", \"ETD_KMS\"]\n",
    "\n"
   ]
  },
  {
   "cell_type": "markdown",
   "metadata": {},
   "source": [
    "#### Know your variables"
   ]
  },
  {
   "cell_type": "code",
   "execution_count": 11,
   "metadata": {},
   "outputs": [
    {
     "data": {
      "text/plain": [
       "count                  577850\n",
       "unique                 557100\n",
       "top       2018-12-11 18:54:47\n",
       "freq                        4\n",
       "first     2018-08-01 00:00:29\n",
       "last      2018-12-31 23:58:46\n",
       "Name: ETD_DATETIME, dtype: object"
      ]
     },
     "execution_count": 11,
     "metadata": {},
     "output_type": "execute_result"
    }
   ],
   "source": [
    "# Know the time span of dataset\n",
    "df[\"ETD_DATETIME\"].describe()"
   ]
  },
  {
   "cell_type": "code",
   "execution_count": 12,
   "metadata": {},
   "outputs": [
    {
     "data": {
      "text/plain": [
       "(2867, 1)"
      ]
     },
     "execution_count": 12,
     "metadata": {},
     "output_type": "execute_result"
    }
   ],
   "source": [
    "# No of buses running on no of routes\n",
    "df[\"ETD_WAYBILL_NO\"].nunique(), df[\"ETD_ROUTE_NO\"].nunique()"
   ]
  },
  {
   "cell_type": "code",
   "execution_count": 13,
   "metadata": {},
   "outputs": [
    {
     "data": {
      "text/plain": [
       "ETD_ROUTE_NO\n",
       "1    100.0\n",
       "Name: ETD_WAYBILL_NO, dtype: float64"
      ]
     },
     "execution_count": 13,
     "metadata": {},
     "output_type": "execute_result"
    }
   ],
   "source": [
    "(df.groupby(\"ETD_ROUTE_NO\").ETD_WAYBILL_NO.nunique() / df[\"ETD_WAYBILL_NO\"].nunique())*100"
   ]
  },
  {
   "cell_type": "code",
   "execution_count": 14,
   "metadata": {},
   "outputs": [
    {
     "data": {
      "text/plain": [
       "Text(0,0.5,'No of buses percentage')"
      ]
     },
     "execution_count": 14,
     "metadata": {},
     "output_type": "execute_result"
    },
    {
     "data": {
      "image/png": "[encoded data removed]",
      "text/plain": [
       "<Figure size 864x360 with 1 Axes>"
      ]
     },
     "metadata": {
      "needs_background": "light"
     },
     "output_type": "display_data"
    }
   ],
   "source": [
    "((df.groupby(\"ETD_ROUTE_NO\").ETD_WAYBILL_NO.nunique() / df[\"ETD_WAYBILL_NO\"].nunique())*100).plot(\n",
    "    kind='bar', figsize=(12,5), title=\"No of buses per route\"\n",
    ")\n",
    "plt.xlabel(\"Route No\")\n",
    "plt.ylabel(\"No of buses percentage\")"
   ]
  },
  {
   "cell_type": "code",
   "execution_count": 15,
   "metadata": {},
   "outputs": [
    {
     "data": {
      "text/plain": [
       "1    100.0\n",
       "Name: ETD_ROUTE_TYPE, dtype: float64"
      ]
     },
     "execution_count": 15,
     "metadata": {},
     "output_type": "execute_result"
    }
   ],
   "source": [
    "# Type of routes and tickets on these route types\n",
    "df[\"ETD_ROUTE_TYPE\"].value_counts(normalize=True)*100"
   ]
  },
  {
   "cell_type": "code",
   "execution_count": 20,
   "metadata": {},
   "outputs": [
    {
     "data": {
      "text/plain": [
       "Text(0,0.5,'Tickets Percentage')"
      ]
     },
     "execution_count": 20,
     "metadata": {},
     "output_type": "execute_result"
    },
    {
     "data": {
      "image/png": "[encoded data removed]",
      "text/plain": [
       "<Figure size 1080x360 with 1 Axes>"
      ]
     },
     "metadata": {
      "needs_background": "light"
     },
     "output_type": "display_data"
    }
   ],
   "source": [
    "# Tickets sold per route number for give route type\n",
    "\n",
    "fig, axes = plt.subplots(nrows=1,ncols=1)\n",
    "route_type_1 = (df[df.ETD_ROUTE_TYPE == 1][\"ETD_ROUTE_NO\"].value_counts(normalize=True)*100)\n",
    "# route_type_2 = (df[df.ETD_ROUTE_TYPE == 2][\"ETD_ROUTE_NO\"].value_counts(normalize=True)*100)\n",
    "route_type_1.plot(kind=\"bar\", ax=axes, figsize=(15,5), title=\"Tickets sold per route for route type 1\")\n",
    "# route_type_2.plot(kind=\"bar\", ax=axes[1], figsize=(15,5), title=\"Tickets sold per route for route type 2\")\n",
    "axes.set_xlabel(\"Route Number\")\n",
    "# axes[1].set_xlabel(\"Route Number\")\n",
    "axes.set_ylabel(\"Tickets Percentage\")\n",
    "# axes[1].set_ylabel(\"Tickets Percentage\")"
   ]
  },
  {
   "cell_type": "code",
   "execution_count": 21,
   "metadata": {},
   "outputs": [
    {
     "data": {
      "text/plain": [
       "28"
      ]
     },
     "execution_count": 21,
     "metadata": {},
     "output_type": "execute_result"
    }
   ],
   "source": [
    "df[\"ETD_TICKET_TYPE\"].nunique()"
   ]
  },
  {
   "cell_type": "code",
   "execution_count": 22,
   "metadata": {},
   "outputs": [
    {
     "data": {
      "text/plain": [
       "Text(0,0.5,'Tickets Percentage')"
      ]
     },
     "execution_count": 22,
     "metadata": {},
     "output_type": "execute_result"
    },
    {
     "data": {
      "image/png": "[encoded data removed]",
      "text/plain": [
       "<Figure size 864x360 with 1 Axes>"
      ]
     },
     "metadata": {
      "needs_background": "light"
     },
     "output_type": "display_data"
    }
   ],
   "source": [
    "# Type of tickets sold\n",
    "(df[\"ETD_TICKET_TYPE\"].value_counts(normalize=True)*100).plot(kind='bar', figsize=(12,5), title=\"Tickets per Trip Direction\")\n",
    "\n",
    "plt.xlabel(\"Ticket Type\")\n",
    "plt.ylabel(\"Tickets Percentage\")\n"
   ]
  },
  {
   "cell_type": "code",
   "execution_count": 23,
   "metadata": {},
   "outputs": [
    {
     "data": {
      "text/plain": [
       "array([201])"
      ]
     },
     "execution_count": 23,
     "metadata": {},
     "output_type": "execute_result"
    }
   ],
   "source": [
    "# How many bus depots\n",
    "df[\"ETD_DEPOT_CODE\"].unique()"
   ]
  },
  {
   "cell_type": "code",
   "execution_count": 24,
   "metadata": {},
   "outputs": [
    {
     "data": {
      "text/plain": [
       "(17, 17)"
      ]
     },
     "execution_count": 24,
     "metadata": {},
     "output_type": "execute_result"
    }
   ],
   "source": [
    "# How many stops are there\n",
    "df[\"ETD_CUR_STOP_NAME\"].nunique(), df[\"ETD_DST_STOP_NAME\"].nunique()"
   ]
  },
  {
   "cell_type": "code",
   "execution_count": 25,
   "metadata": {},
   "outputs": [
    {
     "data": {
      "text/plain": [
       "17"
      ]
     },
     "execution_count": 25,
     "metadata": {},
     "output_type": "execute_result"
    }
   ],
   "source": [
    "# No of bus stops\n",
    "len(set(list(df[\"ETD_CUR_STOP_NAME\"].unique()) + list(df[\"ETD_DST_STOP_NAME\"].unique())))"
   ]
  },
  {
   "cell_type": "code",
   "execution_count": 26,
   "metadata": {},
   "outputs": [
    {
     "data": {
      "text/plain": [
       "Text(0,0.5,'Tickets Percentage')"
      ]
     },
     "execution_count": 26,
     "metadata": {},
     "output_type": "execute_result"
    },
    {
     "data": {
      "image/png": "[encoded data removed]",
      "text/plain": [
       "<Figure size 720x360 with 1 Axes>"
      ]
     },
     "metadata": {
      "needs_background": "light"
     },
     "output_type": "display_data"
    }
   ],
   "source": [
    "# Tickets distribution per Trip direction\n",
    "(df[\"ETD_TRIP_DIRECTION\"].value_counts(normalize=True)*100).plot(kind='bar', figsize=(10,5), title=\"Tickets per Trip Direction\")\n",
    "plt.xlabel(\"Trip Direction\")\n",
    "plt.ylabel(\"Tickets Percentage\")"
   ]
  },
  {
   "cell_type": "code",
   "execution_count": 27,
   "metadata": {},
   "outputs": [
    {
     "data": {
      "text/plain": [
       "(625720, 13239)"
      ]
     },
     "execution_count": 27,
     "metadata": {},
     "output_type": "execute_result"
    }
   ],
   "source": [
    "# No of adults and children throught the year\n",
    "df[\"ETD_ADULTS\"].sum(), df[\"ETD_CHILD\"].sum()"
   ]
  },
  {
   "cell_type": "code",
   "execution_count": 28,
   "metadata": {},
   "outputs": [
    {
     "data": {
      "text/plain": [
       "count    577850.000000\n",
       "mean         80.924103\n",
       "std         116.334072\n",
       "min           0.000000\n",
       "25%           0.000000\n",
       "50%          36.000000\n",
       "75%         105.000000\n",
       "max        2820.000000\n",
       "Name: ETD_AMOUNT, dtype: float64"
      ]
     },
     "execution_count": 28,
     "metadata": {},
     "output_type": "execute_result"
    }
   ],
   "source": [
    "# Describe amount\n",
    "df.ETD_AMOUNT.describe()"
   ]
  },
  {
   "cell_type": "code",
   "execution_count": 29,
   "metadata": {},
   "outputs": [
    {
     "data": {
      "text/plain": [
       "Text(0.5,1,'Expense Distribution')"
      ]
     },
     "execution_count": 29,
     "metadata": {},
     "output_type": "execute_result"
    },
    {
     "data": {
      "image/png": "[encoded data removed]",
      "text/plain": [
       "<Figure size 432x288 with 1 Axes>"
      ]
     },
     "metadata": {
      "needs_background": "light"
     },
     "output_type": "display_data"
    }
   ],
   "source": [
    "sns.distplot(df.ETD_AMOUNT)\n",
    "plt.title(\"Expense Distribution\")"
   ]
  },
  {
   "cell_type": "code",
   "execution_count": 30,
   "metadata": {},
   "outputs": [
    {
     "data": {
      "text/plain": [
       "count    577850.000000\n",
       "mean         71.390058\n",
       "std          85.834624\n",
       "min           0.000000\n",
       "25%          12.000000\n",
       "50%          37.000000\n",
       "75%          93.000000\n",
       "max         277.000000\n",
       "Name: ETD_KMS, dtype: float64"
      ]
     },
     "execution_count": 30,
     "metadata": {},
     "output_type": "execute_result"
    }
   ],
   "source": [
    "# Describe distance between stops in Kilometers\n",
    "df.ETD_KMS.describe()"
   ]
  },
  {
   "cell_type": "code",
   "execution_count": 31,
   "metadata": {},
   "outputs": [
    {
     "data": {
      "text/plain": [
       "Text(0.5,1,'Distance between stops Distribution')"
      ]
     },
     "execution_count": 31,
     "metadata": {},
     "output_type": "execute_result"
    },
    {
     "data": {
      "image/png": "[encoded data removed]",
      "text/plain": [
       "<Figure size 432x288 with 1 Axes>"
      ]
     },
     "metadata": {
      "needs_background": "light"
     },
     "output_type": "display_data"
    }
   ],
   "source": [
    "sns.distplot(df.ETD_KMS,kde=False )\n",
    "plt.title(\"Distance between stops Distribution\")"
   ]
  },
  {
   "cell_type": "code",
   "execution_count": 32,
   "metadata": {},
   "outputs": [
    {
     "data": {
      "text/plain": [
       "array([], dtype=int64)"
      ]
     },
     "execution_count": 32,
     "metadata": {},
     "output_type": "execute_result"
    }
   ],
   "source": [
    "df[df.ETD_KMS < 0].ETD_KMS.unique()"
   ]
  },
  {
   "cell_type": "code",
   "execution_count": 33,
   "metadata": {},
   "outputs": [
    {
     "data": {
      "text/plain": [
       "count    577850.000000\n",
       "mean          7.869607\n",
       "std           0.174907\n",
       "min           5.770000\n",
       "25%           7.760000\n",
       "50%           7.880000\n",
       "75%           7.990000\n",
       "max           9.990000\n",
       "Name: ETD_BATTERY_VOLT, dtype: float64"
      ]
     },
     "execution_count": 33,
     "metadata": {},
     "output_type": "execute_result"
    }
   ],
   "source": [
    "df.ETD_BATTERY_VOLT.describe()"
   ]
  },
  {
   "cell_type": "code",
   "execution_count": 34,
   "metadata": {},
   "outputs": [
    {
     "data": {
      "text/plain": [
       "Text(0.5,1,'Battery Volt Distribution')"
      ]
     },
     "execution_count": 34,
     "metadata": {},
     "output_type": "execute_result"
    },
    {
     "data": {
      "image/png": "[encoded data removed]",
      "text/plain": [
       "<Figure size 432x288 with 1 Axes>"
      ]
     },
     "metadata": {
      "needs_background": "light"
     },
     "output_type": "display_data"
    }
   ],
   "source": [
    "sns.distplot(df.ETD_BATTERY_VOLT, kde=False)\n",
    "plt.title(\"Battery Volt Distribution\")"
   ]
  },
  {
   "cell_type": "markdown",
   "metadata": {},
   "source": [
    "### Exploratory Data Analysis Result\n",
    "\n",
    "- The timeline for this dataset spans from 25 Feb 2018 to 14 Jan 2019, almost 1 year data.\n",
    "- There are 8 qualtitative variables and 5 quantitative variables.\n",
    "\n",
    "#### Qualitative Variables Understanding\n",
    "- There are 295 buses and 39 routes. Most of the buses are running on routes 1, 320 and 352.\n",
    "- There were 68% of tickets sold on route type 1 and so 32% of tickets sold on route type 2.\n",
    "- Most busy routes 1 and 320 belongs to route type 1 and 352 belongs to route type 2\n",
    "- There 28 ticket types. Most ticktets sold on ticket type 1 which is more than 60% of the data.\n",
    "- This whole data set belongs to only one depot, which is 259.\n",
    "- There are 244 bus stops.\n",
    "- More than 50% of tickets were sold for upward direction.\n",
    "\n",
    "#### Quantitative Variables Understanding\n",
    "- There were 111075 adults bought tickets and there were 2483 children got tickets throught the year.\n",
    "- On average the expense per ticket is 54. Though the distributions is highly skewed towards right side.\n",
    "- Most of the tickets sold for short distances.\n",
    "- Battery voltage distribution has very less standard deviation. Maximum observations varies between 7.6 to 8.2."
   ]
  },
  {
   "cell_type": "code",
   "execution_count": 35,
   "metadata": {},
   "outputs": [],
   "source": [
    "# df[df.ETD_ROUTE_NO == 1].groupby([\"ETD_CUR_STOP_NO\"]).ETD_CUR_STOP_NAME.unique()"
   ]
  },
  {
   "cell_type": "code",
   "execution_count": 36,
   "metadata": {},
   "outputs": [],
   "source": [
    "# df[df.ETD_ROUTE_NO == 1].groupby([\"ETD_CUR_STOP_CODE\"]).ETD_CUR_STOP_NAME.unique()"
   ]
  },
  {
   "cell_type": "code",
   "execution_count": 37,
   "metadata": {},
   "outputs": [],
   "source": [
    "# df[df.ETD_ROUTE_NO == 1].ETD_CUR_STOP_NAME.unique()"
   ]
  },
  {
   "cell_type": "code",
   "execution_count": 38,
   "metadata": {},
   "outputs": [
    {
     "data": {
      "text/plain": [
       "array(['NELAMANGALA', 'BENGALURU', 'BASAV.BUS.S', 'JHCROSS/DSH', 'KADUR',\n",
       "       'BIRUR', 'TUMAKURU', 'GUBBI', 'NITTUR', 'KB CROSS', 'TIPTUR',\n",
       "       'ARSIKERE', 'BANAVARA', 'MATHIGATTA', 'TARIKERE', 'BHADRAVATHI',\n",
       "       'SHIVAMOGGA'], dtype=object)"
      ]
     },
     "execution_count": 38,
     "metadata": {},
     "output_type": "execute_result"
    }
   ],
   "source": [
    "df.ETD_CUR_STOP_NAME.unique()"
   ]
  },
  {
   "cell_type": "code",
   "execution_count": 43,
   "metadata": {},
   "outputs": [
    {
     "data": {
      "text/plain": [
       "ETD_DST_STOP_NO\n",
       "1       [BENGALURU]\n",
       "2     [BASAV.BUS.S]\n",
       "3     [JHCROSS/DSH]\n",
       "4     [NELAMANGALA]\n",
       "5        [TUMAKURU]\n",
       "6           [GUBBI]\n",
       "7          [NITTUR]\n",
       "8        [KB CROSS]\n",
       "9          [TIPTUR]\n",
       "10       [ARSIKERE]\n",
       "11       [BANAVARA]\n",
       "12     [MATHIGATTA]\n",
       "13          [KADUR]\n",
       "14          [BIRUR]\n",
       "15       [TARIKERE]\n",
       "16    [BHADRAVATHI]\n",
       "17     [SHIVAMOGGA]\n",
       "Name: ETD_DST_STOP_NAME, dtype: object"
      ]
     },
     "execution_count": 43,
     "metadata": {},
     "output_type": "execute_result"
    }
   ],
   "source": [
    "df.groupby([\"ETD_DST_STOP_NO\"]).ETD_DST_STOP_NAME.unique()"
   ]
  },
  {
   "cell_type": "code",
   "execution_count": 45,
   "metadata": {},
   "outputs": [
    {
     "data": {
      "text/plain": [
       "array([1, 2, 3, 5, 6, 4, 7, 8])"
      ]
     },
     "execution_count": 45,
     "metadata": {},
     "output_type": "execute_result"
    }
   ],
   "source": [
    "df.ETD_TRIP_NO.unique()"
   ]
  },
  {
   "cell_type": "code",
   "execution_count": 52,
   "metadata": {},
   "outputs": [
    {
     "data": {
      "text/plain": [
       "ETD_TRIP_NO\n",
       "1    [NELAMANGALA, BHADRAVATHI, TIPTUR, TUMAKURU, S...\n",
       "2    [BHADRAVATHI, BENGALURU, TARIKERE, BIRUR, NITT...\n",
       "3    [BENGALURU, TUMAKURU, BHADRAVATHI, TARIKERE, B...\n",
       "4    [BIRUR, ARSIKERE, BENGALURU, TIPTUR, NELAMANGA...\n",
       "5    [BENGALURU, TIPTUR, BHADRAVATHI, SHIVAMOGGA, A...\n",
       "6    [TARIKERE, ARSIKERE, KADUR, BIRUR, BASAV.BUS.S...\n",
       "7    [BENGALURU, SHIVAMOGGA, TIPTUR, GUBBI, KB CROS...\n",
       "8    [TARIKERE, BHADRAVATHI, ARSIKERE, TUMAKURU, BE...\n",
       "Name: ETD_DST_STOP_NAME, dtype: object"
      ]
     },
     "execution_count": 52,
     "metadata": {},
     "output_type": "execute_result"
    }
   ],
   "source": [
    "df.groupby(\"ETD_TRIP_NO\").ETD_DST_STOP_NAME.unique()"
   ]
  },
  {
   "cell_type": "code",
   "execution_count": 50,
   "metadata": {},
   "outputs": [
    {
     "data": {
      "text/plain": [
       "ETD_ROUTE_NO  ETD_TRIP_DIRECTION\n",
       "1             D                     2809\n",
       "              U                     2821\n",
       "Name: ETD_WAYBILL_NO, dtype: int64"
      ]
     },
     "execution_count": 50,
     "metadata": {},
     "output_type": "execute_result"
    }
   ],
   "source": [
    "df.groupby([\"ETD_ROUTE_NO\",\"ETD_TRIP_DIRECTION\"]).ETD_WAYBILL_NO.nunique()"
   ]
  },
  {
   "cell_type": "code",
   "execution_count": 54,
   "metadata": {},
   "outputs": [
    {
     "data": {
      "text/plain": [
       "ETD_TRIP_NO\n",
       "1    2744\n",
       "2    2765\n",
       "3     132\n",
       "4      38\n",
       "5       8\n",
       "6       3\n",
       "7       2\n",
       "8       1\n",
       "Name: ETD_WAYBILL_NO, dtype: int64"
      ]
     },
     "execution_count": 54,
     "metadata": {},
     "output_type": "execute_result"
    }
   ],
   "source": [
    "df.groupby([\"ETD_TRIP_NO\"]).ETD_WAYBILL_NO.nunique()"
   ]
  },
  {
   "cell_type": "code",
   "execution_count": 60,
   "metadata": {},
   "outputs": [],
   "source": [
    "# df.ETD_TICKET_NO.value_counts()"
   ]
  },
  {
   "cell_type": "code",
   "execution_count": 61,
   "metadata": {},
   "outputs": [
    {
     "data": {
      "text/html": [
       "<div>\n",
       "<style scoped>\n",
       "    .dataframe tbody tr th:only-of-type {\n",
       "        vertical-align: middle;\n",
       "    }\n",
       "\n",
       "    .dataframe tbody tr th {\n",
       "        vertical-align: top;\n",
       "    }\n",
       "\n",
       "    .dataframe thead th {\n",
       "        text-align: right;\n",
       "    }\n",
       "</style>\n",
       "<table border=\"1\" class=\"dataframe\">\n",
       "  <thead>\n",
       "    <tr style=\"text-align: right;\">\n",
       "      <th></th>\n",
       "      <th>ETD_DATETIME</th>\n",
       "      <th>ETD_WAYBILL_NO</th>\n",
       "      <th>ETD_ROUTE_NO</th>\n",
       "      <th>ETD_ROUTE_TYPE</th>\n",
       "      <th>ETD_TRIP_NO</th>\n",
       "      <th>ETD_TICKET_TYPE</th>\n",
       "      <th>ETD_ADULTS</th>\n",
       "      <th>ETD_CHILD</th>\n",
       "      <th>ETD_AMOUNT</th>\n",
       "      <th>ETD_DEPOT_CODE</th>\n",
       "      <th>...</th>\n",
       "      <th>ETD_TICKET_TYPE_DESCR</th>\n",
       "      <th>ETD_TRIP_DIRECTION</th>\n",
       "      <th>ETD_TICKET_NO</th>\n",
       "      <th>ETD_TICKET_SUBNO</th>\n",
       "      <th>ETD_CUR_STOP_NO</th>\n",
       "      <th>ETD_CUR_STOP_CODE</th>\n",
       "      <th>ETD_DST_STOP_NO</th>\n",
       "      <th>ETD_DST_STOP_CODE</th>\n",
       "      <th>ETD_CUR_SUB_STAGE</th>\n",
       "      <th>ETD_DST_SUB_STAGE</th>\n",
       "    </tr>\n",
       "  </thead>\n",
       "  <tbody>\n",
       "    <tr>\n",
       "      <th>261650</th>\n",
       "      <td>2018-10-11 14:47:46</td>\n",
       "      <td>627042</td>\n",
       "      <td>1</td>\n",
       "      <td>1</td>\n",
       "      <td>2</td>\n",
       "      <td>1</td>\n",
       "      <td>2</td>\n",
       "      <td>1</td>\n",
       "      <td>75</td>\n",
       "      <td>201</td>\n",
       "      <td>...</td>\n",
       "      <td>PASSENGER</td>\n",
       "      <td>D</td>\n",
       "      <td>8105</td>\n",
       "      <td>0</td>\n",
       "      <td>8</td>\n",
       "      <td>21</td>\n",
       "      <td>7</td>\n",
       "      <td>17</td>\n",
       "      <td>0</td>\n",
       "      <td>0</td>\n",
       "    </tr>\n",
       "    <tr>\n",
       "      <th>441981</th>\n",
       "      <td>2018-11-27 09:39:30</td>\n",
       "      <td>631653</td>\n",
       "      <td>1</td>\n",
       "      <td>1</td>\n",
       "      <td>2</td>\n",
       "      <td>11</td>\n",
       "      <td>6</td>\n",
       "      <td>0</td>\n",
       "      <td>0</td>\n",
       "      <td>201</td>\n",
       "      <td>...</td>\n",
       "      <td>STUDENT PAS</td>\n",
       "      <td>D</td>\n",
       "      <td>8105</td>\n",
       "      <td>0</td>\n",
       "      <td>14</td>\n",
       "      <td>35</td>\n",
       "      <td>13</td>\n",
       "      <td>34</td>\n",
       "      <td>0</td>\n",
       "      <td>0</td>\n",
       "    </tr>\n",
       "    <tr>\n",
       "      <th>442802</th>\n",
       "      <td>2018-11-27 04:32:09</td>\n",
       "      <td>631646</td>\n",
       "      <td>1</td>\n",
       "      <td>1</td>\n",
       "      <td>1</td>\n",
       "      <td>8</td>\n",
       "      <td>0</td>\n",
       "      <td>0</td>\n",
       "      <td>0</td>\n",
       "      <td>201</td>\n",
       "      <td>...</td>\n",
       "      <td>STAGE CHNGE</td>\n",
       "      <td>U</td>\n",
       "      <td>8105</td>\n",
       "      <td>0</td>\n",
       "      <td>16</td>\n",
       "      <td>42</td>\n",
       "      <td>16</td>\n",
       "      <td>42</td>\n",
       "      <td>0</td>\n",
       "      <td>0</td>\n",
       "    </tr>\n",
       "    <tr>\n",
       "      <th>446492</th>\n",
       "      <td>2018-11-28 22:19:01</td>\n",
       "      <td>631817</td>\n",
       "      <td>1</td>\n",
       "      <td>1</td>\n",
       "      <td>1</td>\n",
       "      <td>12</td>\n",
       "      <td>1</td>\n",
       "      <td>0</td>\n",
       "      <td>0</td>\n",
       "      <td>201</td>\n",
       "      <td>...</td>\n",
       "      <td>GENERAL PAS</td>\n",
       "      <td>U</td>\n",
       "      <td>8105</td>\n",
       "      <td>0</td>\n",
       "      <td>7</td>\n",
       "      <td>17</td>\n",
       "      <td>9</td>\n",
       "      <td>24</td>\n",
       "      <td>0</td>\n",
       "      <td>0</td>\n",
       "    </tr>\n",
       "    <tr>\n",
       "      <th>456217</th>\n",
       "      <td>2018-11-30 14:58:17</td>\n",
       "      <td>631989</td>\n",
       "      <td>1</td>\n",
       "      <td>1</td>\n",
       "      <td>1</td>\n",
       "      <td>1</td>\n",
       "      <td>1</td>\n",
       "      <td>0</td>\n",
       "      <td>30</td>\n",
       "      <td>201</td>\n",
       "      <td>...</td>\n",
       "      <td>PASSENGER</td>\n",
       "      <td>U</td>\n",
       "      <td>8105</td>\n",
       "      <td>0</td>\n",
       "      <td>9</td>\n",
       "      <td>24</td>\n",
       "      <td>10</td>\n",
       "      <td>28</td>\n",
       "      <td>0</td>\n",
       "      <td>0</td>\n",
       "    </tr>\n",
       "  </tbody>\n",
       "</table>\n",
       "<p>5 rows × 24 columns</p>\n",
       "</div>"
      ],
      "text/plain": [
       "              ETD_DATETIME  ETD_WAYBILL_NO  ETD_ROUTE_NO  ETD_ROUTE_TYPE  \\\n",
       "261650 2018-10-11 14:47:46          627042             1               1   \n",
       "441981 2018-11-27 09:39:30          631653             1               1   \n",
       "442802 2018-11-27 04:32:09          631646             1               1   \n",
       "446492 2018-11-28 22:19:01          631817             1               1   \n",
       "456217 2018-11-30 14:58:17          631989             1               1   \n",
       "\n",
       "        ETD_TRIP_NO  ETD_TICKET_TYPE  ETD_ADULTS  ETD_CHILD  ETD_AMOUNT  \\\n",
       "261650            2                1           2          1          75   \n",
       "441981            2               11           6          0           0   \n",
       "442802            1                8           0          0           0   \n",
       "446492            1               12           1          0           0   \n",
       "456217            1                1           1          0          30   \n",
       "\n",
       "        ETD_DEPOT_CODE  ...  ETD_TICKET_TYPE_DESCR ETD_TRIP_DIRECTION  \\\n",
       "261650             201  ...              PASSENGER                  D   \n",
       "441981             201  ...            STUDENT PAS                  D   \n",
       "442802             201  ...            STAGE CHNGE                  U   \n",
       "446492             201  ...            GENERAL PAS                  U   \n",
       "456217             201  ...              PASSENGER                  U   \n",
       "\n",
       "       ETD_TICKET_NO  ETD_TICKET_SUBNO ETD_CUR_STOP_NO ETD_CUR_STOP_CODE  \\\n",
       "261650          8105                 0               8                21   \n",
       "441981          8105                 0              14                35   \n",
       "442802          8105                 0              16                42   \n",
       "446492          8105                 0               7                17   \n",
       "456217          8105                 0               9                24   \n",
       "\n",
       "        ETD_DST_STOP_NO  ETD_DST_STOP_CODE  ETD_CUR_SUB_STAGE  \\\n",
       "261650                7                 17                  0   \n",
       "441981               13                 34                  0   \n",
       "442802               16                 42                  0   \n",
       "446492                9                 24                  0   \n",
       "456217               10                 28                  0   \n",
       "\n",
       "        ETD_DST_SUB_STAGE  \n",
       "261650                  0  \n",
       "441981                  0  \n",
       "442802                  0  \n",
       "446492                  0  \n",
       "456217                  0  \n",
       "\n",
       "[5 rows x 24 columns]"
      ]
     },
     "execution_count": 61,
     "metadata": {},
     "output_type": "execute_result"
    }
   ],
   "source": [
    "df[df.ETD_TICKET_NO == 8105].head()"
   ]
  },
  {
   "cell_type": "code",
   "execution_count": null,
   "metadata": {},
   "outputs": [],
   "source": []
  }
 ],
 "metadata": {
  "kernelspec": {
   "display_name": "Python 3",
   "language": "python",
   "name": "python3"
  },
  "language_info": {
   "codemirror_mode": {
    "name": "ipython",
    "version": 3
   },
   "file_extension": ".py",
   "mimetype": "text/x-python",
   "name": "python",
   "nbconvert_exporter": "python",
   "pygments_lexer": "ipython3",
   "version": "3.6.4"
  }
 },
 "nbformat": 4,
 "nbformat_minor": 2
}
