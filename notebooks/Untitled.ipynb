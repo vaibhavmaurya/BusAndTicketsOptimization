{
 "cells": [
  {
   "cell_type": "code",
   "execution_count": 1,
   "metadata": {},
   "outputs": [],
   "source": [
    "import os, sys\n",
    "sys.path.insert(0,os.path.pardir)\n",
    "from src import DataProcessingModule as dp"
   ]
  },
  {
   "cell_type": "code",
   "execution_count": null,
   "metadata": {},
   "outputs": [],
   "source": []
  },
  {
   "cell_type": "code",
   "execution_count": 2,
   "metadata": {},
   "outputs": [],
   "source": [
    "dir_dict = {\n",
    "        'raw' : '../data/raw',\n",
    "        'clean' : '../data/clean_data',\n",
    "        'process' : '../data/processed',\n",
    "        'parser' : '../src/datastructure.json',\n",
    "        'db' : '../data/db'\n",
    "}\n",
    "dp_class = dp.DataPreprocessing(dir_dict)"
   ]
  },
  {
   "cell_type": "code",
   "execution_count": 3,
   "metadata": {},
   "outputs": [
    {
     "name": "stdout",
     "output_type": "stream",
     "text": [
      "file CPT DETAILES.LST is moving to raw directory\n",
      "file full_data.csv is getting deleted from clean_data directory\n",
      ">>>>> Data files are reset <<<<<<<\n",
      ">>>>> Data cleaning starts <<<<<<<\n",
      "new format is ../data/clean_data/full_data.csv\n",
      "Text or lst file it is \n",
      ">>> Created New output File\n"
     ]
    }
   ],
   "source": [
    "dp_class.processData()"
   ]
  },
  {
   "cell_type": "code",
   "execution_count": 4,
   "metadata": {},
   "outputs": [],
   "source": [
    "import pandas as pd\n",
    "import numpy as np\n",
    "import matplotlib.pyplot as plt\n",
    "%matplotlib inline"
   ]
  },
  {
   "cell_type": "code",
   "execution_count": 5,
   "metadata": {},
   "outputs": [
    {
     "name": "stderr",
     "output_type": "stream",
     "text": [
      "/anaconda3/lib/python3.6/site-packages/IPython/core/interactiveshell.py:3020: DtypeWarning: Columns (0,1,2,3,4,5,6,7,8,9,10,11,12,13) have mixed types. Specify dtype option on import or set low_memory=False.\n",
      "  interactivity=interactivity, compiler=compiler, result=result)\n"
     ]
    }
   ],
   "source": [
    "df = pd.read_csv('../data/clean_data/full_data.csv')"
   ]
  },
  {
   "cell_type": "code",
   "execution_count": 6,
   "metadata": {},
   "outputs": [
    {
     "name": "stdout",
     "output_type": "stream",
     "text": [
      "<class 'pandas.core.frame.DataFrame'>\n",
      "MultiIndex: 101606 entries, (('102', '103', ') to (393161, 52182839, 1)\n",
      "Data columns (total 42 columns):\n",
      "ETD_WAYBILL_NO            101606 non-null object\n",
      "ETD_EBTMNO                101606 non-null object\n",
      "ETD_ROUTE_NO              101606 non-null object\n",
      "ETD_ROUTE_TYPE            101606 non-null object\n",
      "ETD_TRIP_NO               101606 non-null object\n",
      "ETD_TICKET_TYPE           101606 non-null object\n",
      "ETD_TICKET_NO             101606 non-null object\n",
      "ETD_TICKET_SUBNO          101606 non-null object\n",
      "ETD_CUR_STOP_NO           101606 non-null object\n",
      "ETD_CUR_STOP_CODE         101606 non-null object\n",
      "ETD_DST_STOP_NO           101606 non-null object\n",
      "ETD_DST_STOP_CODE         101605 non-null float64\n",
      "ETD_CUR_SUB_STAGE         101605 non-null float64\n",
      "ETD_DST_SUB_STAGE         101605 non-null float64\n",
      "ETD_ADULTS                101605 non-null float64\n",
      "ETD_CHILD                 101605 non-null float64\n",
      "ETD_ADULT_FARE            101605 non-null float64\n",
      "ETD_CHILD_FARE            101605 non-null float64\n",
      "ETD_AMOUNT                101605 non-null float64\n",
      "ETD_ARF                   101605 non-null object\n",
      "ETD_BRIDGE_FEE            101605 non-null object\n",
      "ETD_MISC_FEE              101605 non-null float64\n",
      "ETD_DATE                  101559 non-null object\n",
      "ETD_TD_TIME               101605 non-null float64\n",
      "ETD_TRIPCOLL_AMT          101605 non-null object\n",
      "ETD_DOC_NO                101605 non-null float64\n",
      "ETD_BUS_SRV_CODE          101605 non-null float64\n",
      "ETD_SEASON                101605 non-null float64\n",
      "ETD_TOT_COL_AMT           101605 non-null object\n",
      "ETD_TICKET_TYPE2          101605 non-null object\n",
      "ETD_DEPOT_CODE            101605 non-null float64\n",
      "ETD_LAST_UPD_DATE         101605 non-null float64\n",
      "ETD_UID                   101605 non-null float64\n",
      "ETD_BATTERY_VOLT          101605 non-null object\n",
      "ETD_CONCN_AMOUNT          101605 non-null object\n",
      "ETD_CONCN_PERCENT         101605 non-null float64\n",
      "ETD_CUR_STOP_NAME         101605 non-null object\n",
      "ETD_DST_STOP_NAME         101605 non-null object\n",
      "ETD_KMS                   101605 non-null object\n",
      "ETD_TICKET_TYPE_DESCR1    0 non-null float64\n",
      "ETD_TICKET_TYPE_DESCR2    0 non-null float64\n",
      "ETD_TRIP_DIRECTION        0 non-null float64\n",
      "dtypes: float64(20), object(22)\n",
      "memory usage: 32.9+ MB\n"
     ]
    }
   ],
   "source": [
    "df.info()"
   ]
  },
  {
   "cell_type": "code",
   "execution_count": null,
   "metadata": {},
   "outputs": [],
   "source": []
  }
 ],
 "metadata": {
  "kernelspec": {
   "display_name": "Python 3",
   "language": "python",
   "name": "python3"
  },
  "language_info": {
   "codemirror_mode": {
    "name": "ipython",
    "version": 3
   },
   "file_extension": ".py",
   "mimetype": "text/x-python",
   "name": "python",
   "nbconvert_exporter": "python",
   "pygments_lexer": "ipython3",
   "version": "3.6.4"
  }
 },
 "nbformat": 4,
 "nbformat_minor": 2
}
