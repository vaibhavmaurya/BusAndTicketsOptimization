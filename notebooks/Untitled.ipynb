{
 "cells": [
  {
   "cell_type": "code",
   "execution_count": 1,
   "metadata": {},
   "outputs": [],
   "source": [
    "import os, sys\n",
    "sys.path.insert(0,os.path.pardir)\n",
    "from src import DataProcessingModule as dp"
   ]
  },
  {
   "cell_type": "code",
   "execution_count": null,
   "metadata": {},
   "outputs": [],
   "source": []
  },
  {
   "cell_type": "code",
   "execution_count": 2,
   "metadata": {},
   "outputs": [],
   "source": [
    "dir_dict = {\n",
    "        'raw' : '../data/raw',\n",
    "        'clean' : '../data/clean_data',\n",
    "        'process' : '../data/processed',\n",
    "        'parser' : '../src/datastructure.json',\n",
    "        'db' : '../data/db'\n",
    "}\n",
    "dp_class = dp.DataPreprocessing(dir_dict)"
   ]
  },
  {
   "cell_type": "code",
   "execution_count": 3,
   "metadata": {},
   "outputs": [
    {
     "name": "stdout",
     "output_type": "stream",
     "text": [
      "file CPT DETAILES.LST is moving to raw directory\n",
      "file full_data.csv is getting deleted from clean_data directory\n",
      ">>>>> Data files are reset <<<<<<<\n",
      ">>>>> Data cleaning starts <<<<<<<\n",
      "new format is ../data/clean_data/full_data.csv\n",
      "Text or lst file it is \n",
      ">>> Created New output File\n"
     ]
    }
   ],
   "source": [
    "dp_class.processData()"
   ]
  },
  {
   "cell_type": "code",
   "execution_count": 24,
   "metadata": {},
   "outputs": [],
   "source": [
    "import pandas as pd\n",
    "import numpy as np\n",
    "import matplotlib.pyplot as plt\n",
    "import seaborn as sns\n",
    "%matplotlib inline"
   ]
  },
  {
   "cell_type": "code",
   "execution_count": 5,
   "metadata": {},
   "outputs": [],
   "source": [
    "df = pd.read_csv('../data/clean_data/full_data.csv', parse_dates={'ETD_DATETIME':['ETD_DATE','ETD_TD_TIME']})"
   ]
  },
  {
   "cell_type": "code",
   "execution_count": 6,
   "metadata": {},
   "outputs": [
    {
     "name": "stdout",
     "output_type": "stream",
     "text": [
      "<class 'pandas.core.frame.DataFrame'>\n",
      "RangeIndex: 101605 entries, 0 to 101604\n",
      "Data columns (total 15 columns):\n",
      "ETD_DATETIME             101605 non-null datetime64[ns]\n",
      "ETD_WAYBILL_NO           101605 non-null int64\n",
      "ETD_ROUTE_NO             101605 non-null int64\n",
      "ETD_ROUTE_TYPE           101605 non-null int64\n",
      "ETD_TICKET_TYPE          101605 non-null int64\n",
      "ETD_ADULTS               101605 non-null int64\n",
      "ETD_CHILD                101605 non-null int64\n",
      "ETD_AMOUNT               101605 non-null int64\n",
      "ETD_DEPOT_CODE           101605 non-null int64\n",
      "ETD_BATTERY_VOLT         101605 non-null float64\n",
      "ETD_CUR_STOP_NAME        101605 non-null object\n",
      "ETD_DST_STOP_NAME        101605 non-null object\n",
      "ETD_KMS                  101605 non-null int64\n",
      "ETD_TICKET_TYPE_DESCR    101605 non-null object\n",
      "ETD_TRIP_DIRECTION       101605 non-null object\n",
      "dtypes: datetime64[ns](1), float64(1), int64(9), object(4)\n",
      "memory usage: 11.6+ MB\n"
     ]
    }
   ],
   "source": [
    "df.info()"
   ]
  },
  {
   "cell_type": "code",
   "execution_count": 7,
   "metadata": {},
   "outputs": [
    {
     "data": {
      "text/html": [
       "<div>\n",
       "<style scoped>\n",
       "    .dataframe tbody tr th:only-of-type {\n",
       "        vertical-align: middle;\n",
       "    }\n",
       "\n",
       "    .dataframe tbody tr th {\n",
       "        vertical-align: top;\n",
       "    }\n",
       "\n",
       "    .dataframe thead th {\n",
       "        text-align: right;\n",
       "    }\n",
       "</style>\n",
       "<table border=\"1\" class=\"dataframe\">\n",
       "  <thead>\n",
       "    <tr style=\"text-align: right;\">\n",
       "      <th></th>\n",
       "      <th>ETD_DATETIME</th>\n",
       "      <th>ETD_WAYBILL_NO</th>\n",
       "      <th>ETD_ROUTE_NO</th>\n",
       "      <th>ETD_ROUTE_TYPE</th>\n",
       "      <th>ETD_TICKET_TYPE</th>\n",
       "      <th>ETD_ADULTS</th>\n",
       "      <th>ETD_CHILD</th>\n",
       "      <th>ETD_AMOUNT</th>\n",
       "      <th>ETD_DEPOT_CODE</th>\n",
       "      <th>ETD_BATTERY_VOLT</th>\n",
       "      <th>ETD_CUR_STOP_NAME</th>\n",
       "      <th>ETD_DST_STOP_NAME</th>\n",
       "      <th>ETD_KMS</th>\n",
       "      <th>ETD_TICKET_TYPE_DESCR</th>\n",
       "      <th>ETD_TRIP_DIRECTION</th>\n",
       "    </tr>\n",
       "  </thead>\n",
       "  <tbody>\n",
       "    <tr>\n",
       "      <th>0</th>\n",
       "      <td>2018-02-25 12:13:32</td>\n",
       "      <td>373620</td>\n",
       "      <td>354</td>\n",
       "      <td>1</td>\n",
       "      <td>1</td>\n",
       "      <td>1</td>\n",
       "      <td>0</td>\n",
       "      <td>44</td>\n",
       "      <td>259</td>\n",
       "      <td>8.07</td>\n",
       "      <td>CHANNAPATNA</td>\n",
       "      <td>KENGERI</td>\n",
       "      <td>47</td>\n",
       "      <td>PASSENGER</td>\n",
       "      <td>D</td>\n",
       "    </tr>\n",
       "    <tr>\n",
       "      <th>1</th>\n",
       "      <td>2018-02-25 12:13:52</td>\n",
       "      <td>373620</td>\n",
       "      <td>354</td>\n",
       "      <td>1</td>\n",
       "      <td>1</td>\n",
       "      <td>2</td>\n",
       "      <td>0</td>\n",
       "      <td>30</td>\n",
       "      <td>259</td>\n",
       "      <td>8.06</td>\n",
       "      <td>CHANNAPATNA</td>\n",
       "      <td>RAMANAGARA</td>\n",
       "      <td>11</td>\n",
       "      <td>PASSENGER</td>\n",
       "      <td>D</td>\n",
       "    </tr>\n",
       "    <tr>\n",
       "      <th>2</th>\n",
       "      <td>2018-02-25 12:14:05</td>\n",
       "      <td>373620</td>\n",
       "      <td>354</td>\n",
       "      <td>1</td>\n",
       "      <td>1</td>\n",
       "      <td>1</td>\n",
       "      <td>0</td>\n",
       "      <td>50</td>\n",
       "      <td>259</td>\n",
       "      <td>8.04</td>\n",
       "      <td>CHANNAPATNA</td>\n",
       "      <td>MRBS</td>\n",
       "      <td>53</td>\n",
       "      <td>PASSENGER</td>\n",
       "      <td>D</td>\n",
       "    </tr>\n",
       "    <tr>\n",
       "      <th>3</th>\n",
       "      <td>2018-02-25 12:14:15</td>\n",
       "      <td>373620</td>\n",
       "      <td>354</td>\n",
       "      <td>1</td>\n",
       "      <td>1</td>\n",
       "      <td>1</td>\n",
       "      <td>0</td>\n",
       "      <td>44</td>\n",
       "      <td>259</td>\n",
       "      <td>8.08</td>\n",
       "      <td>CHANNAPATNA</td>\n",
       "      <td>KENGERI</td>\n",
       "      <td>47</td>\n",
       "      <td>PASSENGER</td>\n",
       "      <td>D</td>\n",
       "    </tr>\n",
       "    <tr>\n",
       "      <th>4</th>\n",
       "      <td>2018-02-25 12:15:06</td>\n",
       "      <td>373620</td>\n",
       "      <td>354</td>\n",
       "      <td>1</td>\n",
       "      <td>33</td>\n",
       "      <td>1</td>\n",
       "      <td>0</td>\n",
       "      <td>23</td>\n",
       "      <td>259</td>\n",
       "      <td>8.07</td>\n",
       "      <td>CHANNAPATNA</td>\n",
       "      <td>BIDADI</td>\n",
       "      <td>23</td>\n",
       "      <td>-----------</td>\n",
       "      <td>D</td>\n",
       "    </tr>\n",
       "  </tbody>\n",
       "</table>\n",
       "</div>"
      ],
      "text/plain": [
       "         ETD_DATETIME  ETD_WAYBILL_NO  ETD_ROUTE_NO  ETD_ROUTE_TYPE  \\\n",
       "0 2018-02-25 12:13:32          373620           354               1   \n",
       "1 2018-02-25 12:13:52          373620           354               1   \n",
       "2 2018-02-25 12:14:05          373620           354               1   \n",
       "3 2018-02-25 12:14:15          373620           354               1   \n",
       "4 2018-02-25 12:15:06          373620           354               1   \n",
       "\n",
       "   ETD_TICKET_TYPE  ETD_ADULTS  ETD_CHILD  ETD_AMOUNT  ETD_DEPOT_CODE  \\\n",
       "0                1           1          0          44             259   \n",
       "1                1           2          0          30             259   \n",
       "2                1           1          0          50             259   \n",
       "3                1           1          0          44             259   \n",
       "4               33           1          0          23             259   \n",
       "\n",
       "   ETD_BATTERY_VOLT ETD_CUR_STOP_NAME ETD_DST_STOP_NAME  ETD_KMS  \\\n",
       "0              8.07       CHANNAPATNA           KENGERI       47   \n",
       "1              8.06       CHANNAPATNA        RAMANAGARA       11   \n",
       "2              8.04       CHANNAPATNA              MRBS       53   \n",
       "3              8.08       CHANNAPATNA           KENGERI       47   \n",
       "4              8.07       CHANNAPATNA            BIDADI       23   \n",
       "\n",
       "  ETD_TICKET_TYPE_DESCR ETD_TRIP_DIRECTION  \n",
       "0             PASSENGER                  D  \n",
       "1             PASSENGER                  D  \n",
       "2             PASSENGER                  D  \n",
       "3             PASSENGER                  D  \n",
       "4           -----------                  D  "
      ]
     },
     "execution_count": 7,
     "metadata": {},
     "output_type": "execute_result"
    }
   ],
   "source": [
    "df.head()"
   ]
  },
  {
   "cell_type": "code",
   "execution_count": 8,
   "metadata": {},
   "outputs": [
    {
     "data": {
      "text/plain": [
       "ETD_DATETIME             2018-02-25 12:13:32\n",
       "ETD_WAYBILL_NO                        373620\n",
       "ETD_ROUTE_NO                             354\n",
       "ETD_ROUTE_TYPE                             1\n",
       "ETD_TICKET_TYPE                            1\n",
       "ETD_ADULTS                                 1\n",
       "ETD_CHILD                                  0\n",
       "ETD_AMOUNT                                44\n",
       "ETD_DEPOT_CODE                           259\n",
       "ETD_BATTERY_VOLT                        8.07\n",
       "ETD_CUR_STOP_NAME                CHANNAPATNA\n",
       "ETD_DST_STOP_NAME                    KENGERI\n",
       "ETD_KMS                                   47\n",
       "ETD_TICKET_TYPE_DESCR              PASSENGER\n",
       "ETD_TRIP_DIRECTION                         D\n",
       "Name: 0, dtype: object"
      ]
     },
     "execution_count": 8,
     "metadata": {},
     "output_type": "execute_result"
    }
   ],
   "source": [
    "df.iloc[0]"
   ]
  },
  {
   "cell_type": "code",
   "execution_count": 9,
   "metadata": {},
   "outputs": [
    {
     "data": {
      "text/plain": [
       "Index(['ETD_DATETIME', 'ETD_WAYBILL_NO', 'ETD_ROUTE_NO', 'ETD_ROUTE_TYPE',\n",
       "       'ETD_TICKET_TYPE', 'ETD_ADULTS', 'ETD_CHILD', 'ETD_AMOUNT',\n",
       "       'ETD_DEPOT_CODE', 'ETD_BATTERY_VOLT', 'ETD_CUR_STOP_NAME',\n",
       "       'ETD_DST_STOP_NAME', 'ETD_KMS', 'ETD_TICKET_TYPE_DESCR',\n",
       "       'ETD_TRIP_DIRECTION'],\n",
       "      dtype='object')"
      ]
     },
     "execution_count": 9,
     "metadata": {},
     "output_type": "execute_result"
    }
   ],
   "source": [
    "df.columns"
   ]
  },
  {
   "cell_type": "code",
   "execution_count": 11,
   "metadata": {},
   "outputs": [],
   "source": [
    "bus_identifier = \"ETD_WAYBILL_NO\"\n",
    "route_identifier = \"ETD_ROUTE_NO\"\n",
    "qualitative_variables = [\"ETD_ROUTE_TYPE\",\"ETD_TICKET_TYPE\", \"ETD_DEPOT_CODE\", \"ETD_CUR_STOP_NAME\",\"ETD_DST_STOP_NAME\",\n",
    "                         \"ETD_TRIP_DIRECTION\"                        \n",
    "                        ]\n",
    "\n",
    "quantitative_variables = [\"ETD_ADULTS\",\"ETD_CHILD\",\"ETD_AMOUNT\", \"ETD_BATTERY_VOLT\", \"ETD_KMS\"]\n",
    "\n"
   ]
  },
  {
   "cell_type": "markdown",
   "metadata": {},
   "source": [
    "#### Know your variables"
   ]
  },
  {
   "cell_type": "code",
   "execution_count": 52,
   "metadata": {},
   "outputs": [
    {
     "data": {
      "text/plain": [
       "count                  101605\n",
       "unique                  99945\n",
       "top       2018-07-06 08:14:18\n",
       "freq                        3\n",
       "first     2018-02-25 12:13:32\n",
       "last      2019-01-14 12:15:17\n",
       "Name: ETD_DATETIME, dtype: object"
      ]
     },
     "execution_count": 52,
     "metadata": {},
     "output_type": "execute_result"
    }
   ],
   "source": [
    "# Know the time span of dataset\n",
    "df[\"ETD_DATETIME\"].describe()"
   ]
  },
  {
   "cell_type": "code",
   "execution_count": 13,
   "metadata": {},
   "outputs": [
    {
     "data": {
      "text/plain": [
       "(295, 39)"
      ]
     },
     "execution_count": 13,
     "metadata": {},
     "output_type": "execute_result"
    }
   ],
   "source": [
    "# No of buses running on no of routes\n",
    "df[\"ETD_WAYBILL_NO\"].nunique(), df[\"ETD_ROUTE_NO\"].nunique()"
   ]
  },
  {
   "cell_type": "code",
   "execution_count": 97,
   "metadata": {},
   "outputs": [
    {
     "data": {
      "text/plain": [
       "ETD_ROUTE_NO\n",
       "1      82.033898\n",
       "2       1.355932\n",
       "3       1.694915\n",
       "8       1.016949\n",
       "9       1.016949\n",
       "15      0.677966\n",
       "21      0.338983\n",
       "34      0.338983\n",
       "46      0.338983\n",
       "47      0.338983\n",
       "54      0.338983\n",
       "59      0.677966\n",
       "74      0.338983\n",
       "75      0.338983\n",
       "88      0.338983\n",
       "125     0.338983\n",
       "126     0.338983\n",
       "128     0.338983\n",
       "153     0.338983\n",
       "164     3.050847\n",
       "165     0.338983\n",
       "166     0.338983\n",
       "200     0.338983\n",
       "201     0.338983\n",
       "216     0.338983\n",
       "252     0.677966\n",
       "258     0.338983\n",
       "301     3.050847\n",
       "302     0.338983\n",
       "320    94.915254\n",
       "328     0.338983\n",
       "334     0.338983\n",
       "347     0.338983\n",
       "350     0.338983\n",
       "352    90.169492\n",
       "354    18.305085\n",
       "355     2.711864\n",
       "359     0.338983\n",
       "362     1.355932\n",
       "Name: ETD_WAYBILL_NO, dtype: float64"
      ]
     },
     "execution_count": 97,
     "metadata": {},
     "output_type": "execute_result"
    }
   ],
   "source": [
    "(df.groupby(\"ETD_ROUTE_NO\").ETD_WAYBILL_NO.nunique() / df[\"ETD_WAYBILL_NO\"].nunique())*100"
   ]
  },
  {
   "cell_type": "code",
   "execution_count": 96,
   "metadata": {},
   "outputs": [
    {
     "data": {
      "text/plain": [
       "Text(0,0.5,'No of buses percentage')"
      ]
     },
     "execution_count": 96,
     "metadata": {},
     "output_type": "execute_result"
    },
    {
     "data": {
      "image/png": "[encoded data removed]",
      "text/plain": [
       "<Figure size 864x360 with 1 Axes>"
      ]
     },
     "metadata": {
      "needs_background": "light"
     },
     "output_type": "display_data"
    }
   ],
   "source": [
    "((df.groupby(\"ETD_ROUTE_NO\").ETD_WAYBILL_NO.nunique() / df[\"ETD_WAYBILL_NO\"].nunique())*100).plot(\n",
    "    kind='bar', figsize=(12,5), title=\"No of buses per route\"\n",
    ")\n",
    "plt.xlabel(\"Route No\")\n",
    "plt.ylabel(\"No of buses percentage\")"
   ]
  },
  {
   "cell_type": "code",
   "execution_count": 98,
   "metadata": {},
   "outputs": [
    {
     "data": {
      "text/plain": [
       "1    67.583288\n",
       "2    32.416712\n",
       "Name: ETD_ROUTE_TYPE, dtype: float64"
      ]
     },
     "execution_count": 98,
     "metadata": {},
     "output_type": "execute_result"
    }
   ],
   "source": [
    "# Type of routes and tickets on these route types\n",
    "df[\"ETD_ROUTE_TYPE\"].value_counts(normalize=True)*100"
   ]
  },
  {
   "cell_type": "code",
   "execution_count": 46,
   "metadata": {},
   "outputs": [
    {
     "data": {
      "text/plain": [
       "Text(0,0.5,'Tickets Percentage')"
      ]
     },
     "execution_count": 46,
     "metadata": {},
     "output_type": "execute_result"
    },
    {
     "data": {
      "image/png": "[encoded data removed]",
      "text/plain": [
       "<Figure size 1080x360 with 2 Axes>"
      ]
     },
     "metadata": {
      "needs_background": "light"
     },
     "output_type": "display_data"
    }
   ],
   "source": [
    "# Tickets sold per route number for give route type\n",
    "\n",
    "fig, axes = plt.subplots(nrows=1,ncols=2)\n",
    "route_type_1 = (df[df.ETD_ROUTE_TYPE == 1][\"ETD_ROUTE_NO\"].value_counts(normalize=True)*100)\n",
    "route_type_2 = (df[df.ETD_ROUTE_TYPE == 2][\"ETD_ROUTE_NO\"].value_counts(normalize=True)*100)\n",
    "route_type_1.plot(kind=\"bar\", ax=axes[0], figsize=(15,5), title=\"Tickets sold per route for route type 1\")\n",
    "route_type_2.plot(kind=\"bar\", ax=axes[1], figsize=(15,5), title=\"Tickets sold per route for route type 2\")\n",
    "axes[0].set_xlabel(\"Route Number\")\n",
    "axes[1].set_xlabel(\"Route Number\")\n",
    "axes[0].set_ylabel(\"Tickets Percentage\")\n",
    "axes[1].set_ylabel(\"Tickets Percentage\")"
   ]
  },
  {
   "cell_type": "code",
   "execution_count": 100,
   "metadata": {},
   "outputs": [
    {
     "data": {
      "text/plain": [
       "28"
      ]
     },
     "execution_count": 100,
     "metadata": {},
     "output_type": "execute_result"
    }
   ],
   "source": [
    "df[\"ETD_TICKET_TYPE\"].nunique()"
   ]
  },
  {
   "cell_type": "code",
   "execution_count": 86,
   "metadata": {},
   "outputs": [
    {
     "data": {
      "text/plain": [
       "Text(0,0.5,'Tickets Percentage')"
      ]
     },
     "execution_count": 86,
     "metadata": {},
     "output_type": "execute_result"
    },
    {
     "data": {
      "image/png": "[encoded data removed]",
      "text/plain": [
       "<Figure size 864x360 with 1 Axes>"
      ]
     },
     "metadata": {
      "needs_background": "light"
     },
     "output_type": "display_data"
    }
   ],
   "source": [
    "# Type of tickets sold\n",
    "(df[\"ETD_TICKET_TYPE\"].value_counts(normalize=True)*100).plot(kind='bar', figsize=(12,5), title=\"Tickets per Trip Direction\")\n",
    "\n",
    "plt.xlabel(\"Ticket Type\")\n",
    "plt.ylabel(\"Tickets Percentage\")\n"
   ]
  },
  {
   "cell_type": "code",
   "execution_count": 57,
   "metadata": {},
   "outputs": [
    {
     "data": {
      "text/plain": [
       "array([259])"
      ]
     },
     "execution_count": 57,
     "metadata": {},
     "output_type": "execute_result"
    }
   ],
   "source": [
    "# How many bus depots\n",
    "df[\"ETD_DEPOT_CODE\"].unique()"
   ]
  },
  {
   "cell_type": "code",
   "execution_count": 59,
   "metadata": {},
   "outputs": [
    {
     "data": {
      "text/plain": [
       "(241, 239)"
      ]
     },
     "execution_count": 59,
     "metadata": {},
     "output_type": "execute_result"
    }
   ],
   "source": [
    "# How many stops are there\n",
    "df[\"ETD_CUR_STOP_NAME\"].nunique(), df[\"ETD_DST_STOP_NAME\"].nunique()"
   ]
  },
  {
   "cell_type": "code",
   "execution_count": 105,
   "metadata": {},
   "outputs": [
    {
     "data": {
      "text/plain": [
       "244"
      ]
     },
     "execution_count": 105,
     "metadata": {},
     "output_type": "execute_result"
    }
   ],
   "source": [
    "# No of bus stops\n",
    "len(set(list(df[\"ETD_CUR_STOP_NAME\"].unique()) + list(df[\"ETD_DST_STOP_NAME\"].unique())))"
   ]
  },
  {
   "cell_type": "code",
   "execution_count": 85,
   "metadata": {},
   "outputs": [
    {
     "data": {
      "text/plain": [
       "Text(0,0.5,'Tickets Percentage')"
      ]
     },
     "execution_count": 85,
     "metadata": {},
     "output_type": "execute_result"
    },
    {
     "data": {
      "image/png": "[encoded data removed]",
      "text/plain": [
       "<Figure size 720x360 with 1 Axes>"
      ]
     },
     "metadata": {
      "needs_background": "light"
     },
     "output_type": "display_data"
    }
   ],
   "source": [
    "# Tickets distribution per Trip direction\n",
    "(df[\"ETD_TRIP_DIRECTION\"].value_counts(normalize=True)*100).plot(kind='bar', figsize=(10,5), title=\"Tickets per Trip Direction\")\n",
    "plt.xlabel(\"Trip Direction\")\n",
    "plt.ylabel(\"Tickets Percentage\")"
   ]
  },
  {
   "cell_type": "code",
   "execution_count": 74,
   "metadata": {},
   "outputs": [
    {
     "data": {
      "text/plain": [
       "(111075, 2483)"
      ]
     },
     "execution_count": 74,
     "metadata": {},
     "output_type": "execute_result"
    }
   ],
   "source": [
    "# No of adults and children throught the year\n",
    "df[\"ETD_ADULTS\"].sum(), df[\"ETD_CHILD\"].sum()"
   ]
  },
  {
   "cell_type": "code",
   "execution_count": 76,
   "metadata": {},
   "outputs": [
    {
     "data": {
      "text/plain": [
       "count    101605.000000\n",
       "mean         54.365838\n",
       "std          79.634673\n",
       "min           0.000000\n",
       "25%           0.000000\n",
       "50%          35.000000\n",
       "75%          68.000000\n",
       "max        1926.000000\n",
       "Name: ETD_AMOUNT, dtype: float64"
      ]
     },
     "execution_count": 76,
     "metadata": {},
     "output_type": "execute_result"
    }
   ],
   "source": [
    "# Describe amount\n",
    "df.ETD_AMOUNT.describe()"
   ]
  },
  {
   "cell_type": "code",
   "execution_count": 108,
   "metadata": {},
   "outputs": [
    {
     "data": {
      "text/plain": [
       "Text(0.5,1,'Expense Distribution')"
      ]
     },
     "execution_count": 108,
     "metadata": {},
     "output_type": "execute_result"
    },
    {
     "data": {
      "image/png": "[encoded data removed]",
      "text/plain": [
       "<Figure size 432x288 with 1 Axes>"
      ]
     },
     "metadata": {
      "needs_background": "light"
     },
     "output_type": "display_data"
    }
   ],
   "source": [
    "sns.distplot(df.ETD_AMOUNT)\n",
    "plt.title(\"Expense Distribution\")"
   ]
  },
  {
   "cell_type": "code",
   "execution_count": 77,
   "metadata": {},
   "outputs": [
    {
     "data": {
      "text/plain": [
       "count    101605.000000\n",
       "mean         47.834329\n",
       "std          52.014028\n",
       "min          -6.000000\n",
       "25%           6.000000\n",
       "50%          38.000000\n",
       "75%          59.000000\n",
       "max         563.000000\n",
       "Name: ETD_KMS, dtype: float64"
      ]
     },
     "execution_count": 77,
     "metadata": {},
     "output_type": "execute_result"
    }
   ],
   "source": [
    "# Describe distance between stops in Kilometers\n",
    "df.ETD_KMS.describe()"
   ]
  },
  {
   "cell_type": "code",
   "execution_count": 111,
   "metadata": {},
   "outputs": [
    {
     "data": {
      "text/plain": [
       "Text(0.5,1,'Distance between stops Distribution')"
      ]
     },
     "execution_count": 111,
     "metadata": {},
     "output_type": "execute_result"
    },
    {
     "data": {
      "image/png": "[encoded data removed]",
      "text/plain": [
       "<Figure size 432x288 with 1 Axes>"
      ]
     },
     "metadata": {
      "needs_background": "light"
     },
     "output_type": "display_data"
    }
   ],
   "source": [
    "sns.distplot(df.ETD_KMS,kde=False )\n",
    "plt.title(\"Distance between stops Distribution\")"
   ]
  },
  {
   "cell_type": "code",
   "execution_count": 80,
   "metadata": {},
   "outputs": [
    {
     "data": {
      "text/plain": [
       "array([-6, -3])"
      ]
     },
     "execution_count": 80,
     "metadata": {},
     "output_type": "execute_result"
    }
   ],
   "source": [
    "df[df.ETD_KMS < 0].ETD_KMS.unique()"
   ]
  },
  {
   "cell_type": "code",
   "execution_count": 81,
   "metadata": {},
   "outputs": [
    {
     "data": {
      "text/plain": [
       "count    101605.000000\n",
       "mean          7.944252\n",
       "std           0.189761\n",
       "min           6.840000\n",
       "25%           7.810000\n",
       "50%           7.960000\n",
       "75%           8.100000\n",
       "max           8.320000\n",
       "Name: ETD_BATTERY_VOLT, dtype: float64"
      ]
     },
     "execution_count": 81,
     "metadata": {},
     "output_type": "execute_result"
    }
   ],
   "source": [
    "df.ETD_BATTERY_VOLT.describe()"
   ]
  },
  {
   "cell_type": "code",
   "execution_count": 109,
   "metadata": {},
   "outputs": [
    {
     "data": {
      "text/plain": [
       "Text(0.5,1,'Battery Volt Distribution')"
      ]
     },
     "execution_count": 109,
     "metadata": {},
     "output_type": "execute_result"
    },
    {
     "data": {
      "image/png": "[encoded data removed]",
      "text/plain": [
       "<Figure size 432x288 with 1 Axes>"
      ]
     },
     "metadata": {
      "needs_background": "light"
     },
     "output_type": "display_data"
    }
   ],
   "source": [
    "sns.distplot(df.ETD_BATTERY_VOLT, kde=False)\n",
    "plt.title(\"Battery Volt Distribution\")"
   ]
  },
  {
   "cell_type": "markdown",
   "metadata": {},
   "source": [
    "### Exploratory Data Analysis Result\n",
    "\n",
    "- The timeline for this dataset spans from 25 Feb 2018 to 14 Jan 2019, almost 1 year data.\n",
    "- There are 8 qualtitative variables and 5 quantitative variables.\n",
    "\n",
    "#### Qualitative Variables Understanding\n",
    "- There are 295 buses and 39 routes. Most of the buses are running on routes 1, 320 and 352.\n",
    "- There were 68% of tickets sold on route type 1 and so 32% of tickets sold on route type 2.\n",
    "- Most busy routes 1 and 320 belongs to route type 1 and 352 belongs to route type 2\n",
    "- There 28 ticket types. Most ticktets sold on ticket type 1 which is more than 60% of the data.\n",
    "- This whole data set belongs to only one depot, which is 259.\n",
    "- There are 244 bus stops.\n",
    "- More than 50% of tickets were sold for upward direction.\n",
    "\n",
    "#### Quantitative Variables Understanding\n",
    "- There were 111075 adults bought tickets and there were 2483 children got tickets throught the year.\n",
    "- On average the expense per ticket is 54. Though the distributions is highly skewed towards right side.\n",
    "- Most of the tickets sold for short distances.\n",
    "- Battery voltage distribution has very less standard deviation. Maximum observations varies between 7.6 to 8.2."
   ]
  },
  {
   "cell_type": "code",
   "execution_count": null,
   "metadata": {},
   "outputs": [],
   "source": []
  }
 ],
 "metadata": {
  "kernelspec": {
   "display_name": "Python 3",
   "language": "python",
   "name": "python3"
  },
  "language_info": {
   "codemirror_mode": {
    "name": "ipython",
    "version": 3
   },
   "file_extension": ".py",
   "mimetype": "text/x-python",
   "name": "python",
   "nbconvert_exporter": "python",
   "pygments_lexer": "ipython3",
   "version": "3.6.4"
  }
 },
 "nbformat": 4,
 "nbformat_minor": 2
}
