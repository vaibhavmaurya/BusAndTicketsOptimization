{
 "cells": [
  {
   "cell_type": "markdown",
   "metadata": {},
   "source": [
    "# Tickets demand analysis"
   ]
  },
  {
   "cell_type": "markdown",
   "metadata": {},
   "source": [
    "## Investigation Overview\n",
    "\n",
    "Here the idea is to find demand pattern in the historical dataset based on following:\n",
    "- Demand of tickets (passengers boarded) based on different timeframes like monthly, weekly, weekends and weekdays.\n",
    "- Demand of tickets per source and destination bus stops.\n",
    "- Demand of tickets based on trip number and trip direction.\n",
    "- Demand of tickets with respect to ticket types.\n",
    "\n",
    "## Dataset Overview"
   ]
  },
  {
   "cell_type": "code",
   "execution_count": 1,
   "metadata": {},
   "outputs": [],
   "source": [
    "# importing all necessary packages\n",
    "import pandas as pd\n",
    "import numpy as np\n",
    "import matplotlib.pyplot as plt\n",
    "import seaborn as sb\n",
    "# Setting the plot to be embedded inline\n",
    "%matplotlib inline"
   ]
  },
  {
   "cell_type": "code",
   "execution_count": 2,
   "metadata": {},
   "outputs": [
    {
     "data": {
      "text/html": [
       "<div>\n",
       "<style scoped>\n",
       "    .dataframe tbody tr th:only-of-type {\n",
       "        vertical-align: middle;\n",
       "    }\n",
       "\n",
       "    .dataframe tbody tr th {\n",
       "        vertical-align: top;\n",
       "    }\n",
       "\n",
       "    .dataframe thead th {\n",
       "        text-align: right;\n",
       "    }\n",
       "</style>\n",
       "<table border=\"1\" class=\"dataframe\">\n",
       "  <thead>\n",
       "    <tr style=\"text-align: right;\">\n",
       "      <th></th>\n",
       "      <th>ETD_DATETIME</th>\n",
       "      <th>ETD_WAYBILL_NO</th>\n",
       "      <th>ETD_ROUTE_NO</th>\n",
       "      <th>ETD_ROUTE_TYPE</th>\n",
       "      <th>ETD_TRIP_NO</th>\n",
       "      <th>ETD_TICKET_TYPE</th>\n",
       "      <th>ETD_AMOUNT</th>\n",
       "      <th>ETD_DEPOT_CODE</th>\n",
       "      <th>ETD_CUR_STOP_NAME</th>\n",
       "      <th>ETD_DST_STOP_NAME</th>\n",
       "      <th>ETD_KMS</th>\n",
       "      <th>ETD_TICKET_TYPE_DESCR</th>\n",
       "      <th>ETD_TRIP_DIRECTION</th>\n",
       "      <th>ETD_TICKET_NO</th>\n",
       "      <th>ETD_CUR_STOP_NO</th>\n",
       "      <th>ETD_DST_STOP_NO</th>\n",
       "      <th>PASSENGERS</th>\n",
       "      <th>WEEK</th>\n",
       "      <th>MONTH</th>\n",
       "      <th>WEEKDAY</th>\n",
       "    </tr>\n",
       "  </thead>\n",
       "  <tbody>\n",
       "    <tr>\n",
       "      <th>0</th>\n",
       "      <td>2018-08-01 22:50:58</td>\n",
       "      <td>620282</td>\n",
       "      <td>1</td>\n",
       "      <td>1</td>\n",
       "      <td>1</td>\n",
       "      <td>1</td>\n",
       "      <td>250</td>\n",
       "      <td>201</td>\n",
       "      <td>BENGALURU</td>\n",
       "      <td>BHADRAVATHI</td>\n",
       "      <td>265</td>\n",
       "      <td>PASSENGER</td>\n",
       "      <td>U</td>\n",
       "      <td>264972</td>\n",
       "      <td>1</td>\n",
       "      <td>16</td>\n",
       "      <td>1</td>\n",
       "      <td>30</td>\n",
       "      <td>8</td>\n",
       "      <td>2</td>\n",
       "    </tr>\n",
       "    <tr>\n",
       "      <th>1</th>\n",
       "      <td>2018-08-01 21:56:58</td>\n",
       "      <td>620281</td>\n",
       "      <td>1</td>\n",
       "      <td>1</td>\n",
       "      <td>1</td>\n",
       "      <td>1</td>\n",
       "      <td>725</td>\n",
       "      <td>201</td>\n",
       "      <td>BENGALURU</td>\n",
       "      <td>TIPTUR</td>\n",
       "      <td>146</td>\n",
       "      <td>PASSENGER</td>\n",
       "      <td>U</td>\n",
       "      <td>215302</td>\n",
       "      <td>1</td>\n",
       "      <td>9</td>\n",
       "      <td>5</td>\n",
       "      <td>30</td>\n",
       "      <td>8</td>\n",
       "      <td>2</td>\n",
       "    </tr>\n",
       "    <tr>\n",
       "      <th>2</th>\n",
       "      <td>2018-08-01 21:58:11</td>\n",
       "      <td>620281</td>\n",
       "      <td>1</td>\n",
       "      <td>1</td>\n",
       "      <td>1</td>\n",
       "      <td>1</td>\n",
       "      <td>250</td>\n",
       "      <td>201</td>\n",
       "      <td>BENGALURU</td>\n",
       "      <td>BHADRAVATHI</td>\n",
       "      <td>265</td>\n",
       "      <td>PASSENGER</td>\n",
       "      <td>U</td>\n",
       "      <td>215303</td>\n",
       "      <td>1</td>\n",
       "      <td>16</td>\n",
       "      <td>1</td>\n",
       "      <td>30</td>\n",
       "      <td>8</td>\n",
       "      <td>2</td>\n",
       "    </tr>\n",
       "    <tr>\n",
       "      <th>3</th>\n",
       "      <td>2018-08-01 22:30:57</td>\n",
       "      <td>620281</td>\n",
       "      <td>1</td>\n",
       "      <td>1</td>\n",
       "      <td>1</td>\n",
       "      <td>1</td>\n",
       "      <td>500</td>\n",
       "      <td>201</td>\n",
       "      <td>BENGALURU</td>\n",
       "      <td>BHADRAVATHI</td>\n",
       "      <td>265</td>\n",
       "      <td>PASSENGER</td>\n",
       "      <td>U</td>\n",
       "      <td>215304</td>\n",
       "      <td>1</td>\n",
       "      <td>16</td>\n",
       "      <td>2</td>\n",
       "      <td>30</td>\n",
       "      <td>8</td>\n",
       "      <td>2</td>\n",
       "    </tr>\n",
       "    <tr>\n",
       "      <th>4</th>\n",
       "      <td>2018-08-01 22:31:36</td>\n",
       "      <td>620281</td>\n",
       "      <td>1</td>\n",
       "      <td>1</td>\n",
       "      <td>1</td>\n",
       "      <td>1</td>\n",
       "      <td>145</td>\n",
       "      <td>201</td>\n",
       "      <td>BENGALURU</td>\n",
       "      <td>TIPTUR</td>\n",
       "      <td>146</td>\n",
       "      <td>PASSENGER</td>\n",
       "      <td>U</td>\n",
       "      <td>215305</td>\n",
       "      <td>1</td>\n",
       "      <td>9</td>\n",
       "      <td>1</td>\n",
       "      <td>30</td>\n",
       "      <td>8</td>\n",
       "      <td>2</td>\n",
       "    </tr>\n",
       "  </tbody>\n",
       "</table>\n",
       "</div>"
      ],
      "text/plain": [
       "          ETD_DATETIME  ETD_WAYBILL_NO  ETD_ROUTE_NO  ETD_ROUTE_TYPE  \\\n",
       "0  2018-08-01 22:50:58          620282             1               1   \n",
       "1  2018-08-01 21:56:58          620281             1               1   \n",
       "2  2018-08-01 21:58:11          620281             1               1   \n",
       "3  2018-08-01 22:30:57          620281             1               1   \n",
       "4  2018-08-01 22:31:36          620281             1               1   \n",
       "\n",
       "   ETD_TRIP_NO  ETD_TICKET_TYPE  ETD_AMOUNT  ETD_DEPOT_CODE ETD_CUR_STOP_NAME  \\\n",
       "0            1                1         250             201         BENGALURU   \n",
       "1            1                1         725             201         BENGALURU   \n",
       "2            1                1         250             201         BENGALURU   \n",
       "3            1                1         500             201         BENGALURU   \n",
       "4            1                1         145             201         BENGALURU   \n",
       "\n",
       "  ETD_DST_STOP_NAME  ETD_KMS ETD_TICKET_TYPE_DESCR ETD_TRIP_DIRECTION  \\\n",
       "0       BHADRAVATHI      265             PASSENGER                  U   \n",
       "1            TIPTUR      146             PASSENGER                  U   \n",
       "2       BHADRAVATHI      265             PASSENGER                  U   \n",
       "3       BHADRAVATHI      265             PASSENGER                  U   \n",
       "4            TIPTUR      146             PASSENGER                  U   \n",
       "\n",
       "   ETD_TICKET_NO  ETD_CUR_STOP_NO  ETD_DST_STOP_NO  PASSENGERS  WEEK  MONTH  \\\n",
       "0         264972                1               16           1    30      8   \n",
       "1         215302                1                9           5    30      8   \n",
       "2         215303                1               16           1    30      8   \n",
       "3         215304                1               16           2    30      8   \n",
       "4         215305                1                9           1    30      8   \n",
       "\n",
       "   WEEKDAY  \n",
       "0        2  \n",
       "1        2  \n",
       "2        2  \n",
       "3        2  \n",
       "4        2  "
      ]
     },
     "execution_count": 2,
     "metadata": {},
     "output_type": "execute_result"
    }
   ],
   "source": [
    "df = pd.read_csv(\"cleaned_tickets_sold_dataset.csv\")\n",
    "df.head()"
   ]
  },
  {
   "cell_type": "code",
   "execution_count": 3,
   "metadata": {},
   "outputs": [
    {
     "name": "stdout",
     "output_type": "stream",
     "text": [
      "<class 'pandas.core.frame.DataFrame'>\n",
      "RangeIndex: 466956 entries, 0 to 466955\n",
      "Data columns (total 20 columns):\n",
      "ETD_DATETIME             466956 non-null object\n",
      "ETD_WAYBILL_NO           466956 non-null int64\n",
      "ETD_ROUTE_NO             466956 non-null int64\n",
      "ETD_ROUTE_TYPE           466956 non-null int64\n",
      "ETD_TRIP_NO              466956 non-null int64\n",
      "ETD_TICKET_TYPE          466956 non-null int64\n",
      "ETD_AMOUNT               466956 non-null int64\n",
      "ETD_DEPOT_CODE           466956 non-null int64\n",
      "ETD_CUR_STOP_NAME        466956 non-null object\n",
      "ETD_DST_STOP_NAME        466956 non-null object\n",
      "ETD_KMS                  466956 non-null int64\n",
      "ETD_TICKET_TYPE_DESCR    466956 non-null object\n",
      "ETD_TRIP_DIRECTION       466956 non-null object\n",
      "ETD_TICKET_NO            466956 non-null int64\n",
      "ETD_CUR_STOP_NO          466956 non-null int64\n",
      "ETD_DST_STOP_NO          466956 non-null int64\n",
      "PASSENGERS               466956 non-null int64\n",
      "WEEK                     466956 non-null int64\n",
      "MONTH                    466956 non-null int64\n",
      "WEEKDAY                  466956 non-null int64\n",
      "dtypes: int64(15), object(5)\n",
      "memory usage: 71.3+ MB\n"
     ]
    }
   ],
   "source": [
    "df.info()"
   ]
  },
  {
   "cell_type": "markdown",
   "metadata": {},
   "source": [
    "- Dataset has 466956 tickets sold, starting from 1st Aug 2018 till on 31 Dec 2018.\n",
    "- Date time column is decomposed to analyse no of passengers in different time spans.\n",
    "- To condsider bus stops, columns ETD_CUR_STOP_NO and ETD_DST_STOP_NO should be used these columns contains number uniquely assigned to each bus stops. "
   ]
  },
  {
   "cell_type": "code",
   "execution_count": null,
   "metadata": {},
   "outputs": [],
   "source": []
  },
  {
   "cell_type": "markdown",
   "metadata": {},
   "source": [
    "## Demand analyis based on different timeframes"
   ]
  },
  {
   "cell_type": "code",
   "execution_count": 9,
   "metadata": {},
   "outputs": [],
   "source": [
    "def distributionPlot(a, ax):\n",
    "    sb.barplot(x=a.index, y=a, color=default_color, ax=ax)"
   ]
  },
  {
   "cell_type": "code",
   "execution_count": 15,
   "metadata": {},
   "outputs": [
    {
     "data": {
      "image/png": "[encoded data removed]",
      "text/plain": [
       "<Figure size 720x576 with 2 Axes>"
      ]
     },
     "metadata": {
      "needs_background": "light"
     },
     "output_type": "display_data"
    }
   ],
   "source": [
    "fig, ax = plt.subplots(nrows=2, figsize = [10,8])\n",
    "\n",
    "default_color = sb.color_palette()[0]\n",
    "\n",
    "for x,y in [(0,\"MONTH\"),(1,\"WEEK\")]:\n",
    "    distributionPlot(df.groupby(y).PASSENGERS.mean(), ax[x])\n",
    "\n",
    "plt.show()"
   ]
  },
  {
   "cell_type": "code",
   "execution_count": 17,
   "metadata": {},
   "outputs": [],
   "source": [
    "# compute the logarithm of price for other modeling and plotting\n",
    "def log_trans(x, inverse = False):\n",
    "    \"\"\" quick function for computing log and power operations \"\"\"\n",
    "    if not inverse:\n",
    "        return np.log10(x)\n",
    "    else:\n",
    "        return np.power(10, x)\n",
    "    \n",
    "df['LOG_PASSENGERS'] = df['PASSENGERS'].apply(log_trans)"
   ]
  },
  {
   "cell_type": "code",
   "execution_count": null,
   "metadata": {},
   "outputs": [],
   "source": [
    "fig, ax = plt.subplots(ncols = 1, figsize = [10,6])\n",
    "sb.violinplot(data = df, y = var, x = 'LOG_PASSENGERS', ax = ax[0],\n",
    "              color = sb.color_palette()[0])\n",
    "ax[0].set_xticks(log_trans(np.array([500, 1e3, 2e3, 5e3, 1e4, 2e4])))\n",
    "ax[0].set_xticklabels([500, '1k', '2k', '5k', '10k', '20k'])\n",
    "ax[0].set_xlabel(\"Price ($)\")\n",
    "ax[0].set_ylabel(var.capitalize())\n",
    "sb.violinplot(data = diamonds, y = var, x = 'cr_carat', ax = ax[1],\n",
    "           color = color)\n",
    "ax[1].set_xticks(cuberoot_trans(np.array(carat_ticks)))\n",
    "ax[1].set_xticklabels(carat_ticks)\n",
    "ax[1].set_xlim(cuberoot_trans(np.array([0.1, 3.5])))\n",
    "ax[1].set_xlabel(\"Carat\")\n",
    "ax[1].set_yticklabels([\"\"])\n",
    "ax[1].set_ylabel(\"\")\n",
    "fig.suptitle('Price and Carat Weight by {}'.format(var.capitalize()))\n",
    "plt.show()"
   ]
  }
 ],
 "metadata": {
  "kernelspec": {
   "display_name": "Python 3",
   "language": "python",
   "name": "python3"
  },
  "language_info": {
   "codemirror_mode": {
    "name": "ipython",
    "version": 3
   },
   "file_extension": ".py",
   "mimetype": "text/x-python",
   "name": "python",
   "nbconvert_exporter": "python",
   "pygments_lexer": "ipython3",
   "version": "3.6.4"
  }
 },
 "nbformat": 4,
 "nbformat_minor": 2
}
